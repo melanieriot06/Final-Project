# Data Wrangling

# import package
import pandas as pd

# load data
cars = pd.read_csv('C:/Users/melan/OneDrive/Documents/Entity/Final Project/Car-Sales-Data.csv')
cars.head(10)

# rename the engine type column
cars.rename(columns={'Engine Type' : 'EngineType'}, inplace=True)
cars.head(10)

# drop irrelevant variables registration and model
cars.drop(['Registration','Model'], axis=1, inplace=True)
cars.head(10)

# delete NaN values
cars.dropna(inplace=True)
cars1=cars.dropna().reset_index(drop=True)
cars1.head(10)

# drop any rows that have 0 in the miles column
cars2 = cars1[cars1.Mileage != 0]
cars2.head(10)

### The data looks much cleaner. Now, need to convert non numeric variables to numeric.

# check to see which variables are non numeric
cars2.dtypes

 Brand, Body, and EngineType need to be converted. First, we need to check levels of each variable to see how to recode it.

# levels of Brand
cars2['Brand'].value_counts(sort=True)

# levels of Body
cars2['Body'].value_counts(sort=True)

# Levels of EngineType
cars2['EngineType'].value_counts(sort=True)

We'll need to recode 7 levels for the Brand, 6 for the Body, and 4 for the Engine Type

### Recoding

# recoding Brand
cleanup = {"Brand" : {"Volkswagen" : 0, "Mercedes-Benz" : 1, "BMW" : 2, "Toyota" : 3, "Renault" : 4, "Audi" : 5, "Mitsubishi" : 6}}
cars2.replace(cleanup, inplace=True)
cars2.head()

# recoding Body
cleanup = {"Body" : {"sedan" : 0, "crossover" : 1, "van" : 2, "other" : 3, "vagon" : 4, "hatch" : 5}}
cars2.replace(cleanup, inplace=True)
cars2.head()

# recode Engine Type
cleanup = {"EngineType" : {"Diesel" : 0, "Petrol" : 1, "Gas" : 2, "Other" : 3}}
cars2.replace(cleanup, inplace=True)
cars2.head()

Awesome! Now we're ready to start analysis.

## Exploratory Analyses

### For some exploratory analysis, we can do a correlation matrix, look at descriptive statistics, make a few plots for each variable, and finally play around in Tableau.

# pull up our data
cars2.head()

# create a correlation matrix
corrMatrix = cars2.corr()
corrMatrix

A lot of information, but how about we get a more visual representation?

# open packages
import seaborn as sn
import matplotlib.pyplot as plt

cars2.corr(method='pearson').style.format("{:.2}").background_gradient(cmap=plt.get_cmap('coolwarm'), axis=1)

From a glance, it looks as though the year of a used car is correlated with the price of a used car...which makes perfect sense. The year and the body are also mildly correlated, as are the engine type and the enginev. But these are not correlated very much, so really, we should focus more on the year vs the price.

#### Another way of doing some exploratory analyses is by looking at the descriptive stats.

cars2.describe()

Looking at the data, we see we have 3878 total rows of data (after our wrangling and cleaning up). Mean price of a used car is 17,417 dollars-not a bad price since most of these cars are luxury brands. Mean mileage is 169.8 miles. Impressive for a used car. This seems to have come from previous owners who took good care of their vehicles. And the mean year is a 2006. So, in 2022, some of these cars are an average of 16 years old. These are some fantastic used cars!

On further glance, the minimum and maximum price of a car is 600 and 300000. Quite a range! One, or both of these prices, may be an outlier. We'll have to do some more work to see. The minimum mileage is only 1-which means this car may not actually be used, and might need to be dropped from the data. The maximum mileage is 980 miles, which further confirms that our cars in this dataset are well taken care of. And interestingly, the newest car is from 2016, only six years ago, while the oldest car is from 1969! We have a classic car in the mix. Would be interesting to see what the price of that car is.

### Why don't we play around with some histographs and plots?

# make sure seaborn is loaded 
import seaborn as sns

# look at a histograph for each continuous variable
sns.histplot(cars2['Price'])

Wow, this is pretty positively skewed. We'll need to do a transformation on this.

sns.histplot(cars2['Mileage'])

This one is also positively skewed but not as bad as the price.

#### Next we can do the categorical variables by using box plots.

# make sure the libraries are loaded
import seaborn as sns
import matplotlib.pyplot as plt
import pandas as pd
%matplotlib inline
sns.set_style("darkgrid")

## look at a box plot for the categorical variables
sns.boxplot(x=cars2["Brand"])

sns.boxplot(x=cars2["Body"])

sns.boxplot(x=cars2["EngineV"])

sns.boxplot(x=cars2["EngineType"])

sns.boxplot(x=cars2["Year"])

Some observations by looking at these boxplots: The output shows that the median amount of car brands are BMWs. Also, 50% of the car brands are either BMWs and Toyotas. Median body types are crossovers, while half of the cars are a mix of sedans and crossovers. There seems to be a ton of outliers in the enginev. Almost all the engine types fall somewhere between Diesel and Petrol; there is definitely an outlier there. And in the Year variable, most cars are from 2004 to about 2011, with some outliers in the years between 1969 and 1989.

#### Finally, in our exploratory analyses, we'll look at some of the data in Tableau. In order to do that, we'll make our dataset an excel file so we can connect to it there.

# convert dataframe to a csv file
cars2.to_csv('C:/Users/melan/OneDrive/Desktop/cars.csv')

