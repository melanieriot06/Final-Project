{
 "cells": [
  {
   "cell_type": "markdown",
   "id": "fb65ee89",
   "metadata": {},
   "source": [
    "## Setup"
   ]
  },
  {
   "cell_type": "code",
   "execution_count": 214,
   "id": "bf9df8bf",
   "metadata": {},
   "outputs": [],
   "source": [
    "# import packages\n",
    "import pandas as pd\n",
    "import seaborn as sns\n",
    "import matplotlib.pyplot as plt\n",
    "import numpy as np\n",
    "%matplotlib inline\n",
    "sns.set_style(\"darkgrid\")\n",
    "from pylab import *\n",
    "import  statsmodels.api as sm\n",
    "import statsmodels.stats.api as sms\n",
    "from scipy import stats\n",
    "from scipy.stats import boxcox\n",
    "from sklearn import linear_model\n",
    "from sklearn import metrics\n",
    "from sklearn.linear_model import LinearRegression\n",
    "from sklearn.model_selection import train_test_split"
   ]
  },
  {
   "cell_type": "code",
   "execution_count": 2,
   "id": "800a6e24",
   "metadata": {},
   "outputs": [
    {
     "data": {
      "text/html": [
       "<div>\n",
       "<style scoped>\n",
       "    .dataframe tbody tr th:only-of-type {\n",
       "        vertical-align: middle;\n",
       "    }\n",
       "\n",
       "    .dataframe tbody tr th {\n",
       "        vertical-align: top;\n",
       "    }\n",
       "\n",
       "    .dataframe thead th {\n",
       "        text-align: right;\n",
       "    }\n",
       "</style>\n",
       "<table border=\"1\" class=\"dataframe\">\n",
       "  <thead>\n",
       "    <tr style=\"text-align: right;\">\n",
       "      <th></th>\n",
       "      <th>Brand</th>\n",
       "      <th>Price</th>\n",
       "      <th>Body</th>\n",
       "      <th>Mileage</th>\n",
       "      <th>EngineV</th>\n",
       "      <th>Engine Type</th>\n",
       "      <th>Registration</th>\n",
       "      <th>Year</th>\n",
       "      <th>Model</th>\n",
       "    </tr>\n",
       "  </thead>\n",
       "  <tbody>\n",
       "    <tr>\n",
       "      <th>0</th>\n",
       "      <td>BMW</td>\n",
       "      <td>4200.0</td>\n",
       "      <td>sedan</td>\n",
       "      <td>277</td>\n",
       "      <td>2.0</td>\n",
       "      <td>Petrol</td>\n",
       "      <td>yes</td>\n",
       "      <td>1991</td>\n",
       "      <td>320</td>\n",
       "    </tr>\n",
       "    <tr>\n",
       "      <th>1</th>\n",
       "      <td>Mercedes-Benz</td>\n",
       "      <td>7900.0</td>\n",
       "      <td>van</td>\n",
       "      <td>427</td>\n",
       "      <td>2.9</td>\n",
       "      <td>Diesel</td>\n",
       "      <td>yes</td>\n",
       "      <td>1999</td>\n",
       "      <td>Sprinter 212</td>\n",
       "    </tr>\n",
       "    <tr>\n",
       "      <th>2</th>\n",
       "      <td>Mercedes-Benz</td>\n",
       "      <td>13300.0</td>\n",
       "      <td>sedan</td>\n",
       "      <td>358</td>\n",
       "      <td>5.0</td>\n",
       "      <td>Gas</td>\n",
       "      <td>yes</td>\n",
       "      <td>2003</td>\n",
       "      <td>S 500</td>\n",
       "    </tr>\n",
       "    <tr>\n",
       "      <th>3</th>\n",
       "      <td>Audi</td>\n",
       "      <td>23000.0</td>\n",
       "      <td>crossover</td>\n",
       "      <td>240</td>\n",
       "      <td>4.2</td>\n",
       "      <td>Petrol</td>\n",
       "      <td>yes</td>\n",
       "      <td>2007</td>\n",
       "      <td>Q7</td>\n",
       "    </tr>\n",
       "    <tr>\n",
       "      <th>4</th>\n",
       "      <td>Toyota</td>\n",
       "      <td>18300.0</td>\n",
       "      <td>crossover</td>\n",
       "      <td>120</td>\n",
       "      <td>2.0</td>\n",
       "      <td>Petrol</td>\n",
       "      <td>yes</td>\n",
       "      <td>2011</td>\n",
       "      <td>Rav 4</td>\n",
       "    </tr>\n",
       "    <tr>\n",
       "      <th>5</th>\n",
       "      <td>Mercedes-Benz</td>\n",
       "      <td>199999.0</td>\n",
       "      <td>crossover</td>\n",
       "      <td>0</td>\n",
       "      <td>5.5</td>\n",
       "      <td>Petrol</td>\n",
       "      <td>yes</td>\n",
       "      <td>2016</td>\n",
       "      <td>GLS 63</td>\n",
       "    </tr>\n",
       "    <tr>\n",
       "      <th>6</th>\n",
       "      <td>BMW</td>\n",
       "      <td>6100.0</td>\n",
       "      <td>sedan</td>\n",
       "      <td>438</td>\n",
       "      <td>2.0</td>\n",
       "      <td>Gas</td>\n",
       "      <td>yes</td>\n",
       "      <td>1997</td>\n",
       "      <td>320</td>\n",
       "    </tr>\n",
       "    <tr>\n",
       "      <th>7</th>\n",
       "      <td>Audi</td>\n",
       "      <td>14200.0</td>\n",
       "      <td>vagon</td>\n",
       "      <td>200</td>\n",
       "      <td>2.7</td>\n",
       "      <td>Diesel</td>\n",
       "      <td>yes</td>\n",
       "      <td>2006</td>\n",
       "      <td>A6</td>\n",
       "    </tr>\n",
       "    <tr>\n",
       "      <th>8</th>\n",
       "      <td>Renault</td>\n",
       "      <td>10799.0</td>\n",
       "      <td>vagon</td>\n",
       "      <td>193</td>\n",
       "      <td>1.5</td>\n",
       "      <td>Diesel</td>\n",
       "      <td>yes</td>\n",
       "      <td>2012</td>\n",
       "      <td>Megane</td>\n",
       "    </tr>\n",
       "    <tr>\n",
       "      <th>9</th>\n",
       "      <td>Volkswagen</td>\n",
       "      <td>1400.0</td>\n",
       "      <td>other</td>\n",
       "      <td>212</td>\n",
       "      <td>1.8</td>\n",
       "      <td>Gas</td>\n",
       "      <td>no</td>\n",
       "      <td>1999</td>\n",
       "      <td>Golf IV</td>\n",
       "    </tr>\n",
       "  </tbody>\n",
       "</table>\n",
       "</div>"
      ],
      "text/plain": [
       "           Brand     Price       Body  Mileage  EngineV Engine Type  \\\n",
       "0            BMW    4200.0      sedan      277      2.0      Petrol   \n",
       "1  Mercedes-Benz    7900.0        van      427      2.9      Diesel   \n",
       "2  Mercedes-Benz   13300.0      sedan      358      5.0         Gas   \n",
       "3           Audi   23000.0  crossover      240      4.2      Petrol   \n",
       "4         Toyota   18300.0  crossover      120      2.0      Petrol   \n",
       "5  Mercedes-Benz  199999.0  crossover        0      5.5      Petrol   \n",
       "6            BMW    6100.0      sedan      438      2.0         Gas   \n",
       "7           Audi   14200.0      vagon      200      2.7      Diesel   \n",
       "8        Renault   10799.0      vagon      193      1.5      Diesel   \n",
       "9     Volkswagen    1400.0      other      212      1.8         Gas   \n",
       "\n",
       "  Registration  Year         Model  \n",
       "0          yes  1991           320  \n",
       "1          yes  1999  Sprinter 212  \n",
       "2          yes  2003         S 500  \n",
       "3          yes  2007            Q7  \n",
       "4          yes  2011         Rav 4  \n",
       "5          yes  2016        GLS 63  \n",
       "6          yes  1997           320  \n",
       "7          yes  2006            A6  \n",
       "8          yes  2012        Megane  \n",
       "9           no  1999       Golf IV  "
      ]
     },
     "execution_count": 2,
     "metadata": {},
     "output_type": "execute_result"
    }
   ],
   "source": [
    "# load data\n",
    "cars = pd.read_csv('C:/Users/melan/OneDrive/Documents/Entity/Final Project/Car-Sales-Data.csv')\n",
    "cars.head(10)"
   ]
  },
  {
   "cell_type": "markdown",
   "id": "427bd91c",
   "metadata": {},
   "source": [
    "## Data Wrangling"
   ]
  },
  {
   "cell_type": "code",
   "execution_count": 3,
   "id": "2f5ada29",
   "metadata": {},
   "outputs": [
    {
     "data": {
      "text/html": [
       "<div>\n",
       "<style scoped>\n",
       "    .dataframe tbody tr th:only-of-type {\n",
       "        vertical-align: middle;\n",
       "    }\n",
       "\n",
       "    .dataframe tbody tr th {\n",
       "        vertical-align: top;\n",
       "    }\n",
       "\n",
       "    .dataframe thead th {\n",
       "        text-align: right;\n",
       "    }\n",
       "</style>\n",
       "<table border=\"1\" class=\"dataframe\">\n",
       "  <thead>\n",
       "    <tr style=\"text-align: right;\">\n",
       "      <th></th>\n",
       "      <th>Brand</th>\n",
       "      <th>Price</th>\n",
       "      <th>Body</th>\n",
       "      <th>Mileage</th>\n",
       "      <th>EngineV</th>\n",
       "      <th>EngineType</th>\n",
       "      <th>Registration</th>\n",
       "      <th>Year</th>\n",
       "      <th>Model</th>\n",
       "    </tr>\n",
       "  </thead>\n",
       "  <tbody>\n",
       "    <tr>\n",
       "      <th>0</th>\n",
       "      <td>BMW</td>\n",
       "      <td>4200.0</td>\n",
       "      <td>sedan</td>\n",
       "      <td>277</td>\n",
       "      <td>2.0</td>\n",
       "      <td>Petrol</td>\n",
       "      <td>yes</td>\n",
       "      <td>1991</td>\n",
       "      <td>320</td>\n",
       "    </tr>\n",
       "    <tr>\n",
       "      <th>1</th>\n",
       "      <td>Mercedes-Benz</td>\n",
       "      <td>7900.0</td>\n",
       "      <td>van</td>\n",
       "      <td>427</td>\n",
       "      <td>2.9</td>\n",
       "      <td>Diesel</td>\n",
       "      <td>yes</td>\n",
       "      <td>1999</td>\n",
       "      <td>Sprinter 212</td>\n",
       "    </tr>\n",
       "    <tr>\n",
       "      <th>2</th>\n",
       "      <td>Mercedes-Benz</td>\n",
       "      <td>13300.0</td>\n",
       "      <td>sedan</td>\n",
       "      <td>358</td>\n",
       "      <td>5.0</td>\n",
       "      <td>Gas</td>\n",
       "      <td>yes</td>\n",
       "      <td>2003</td>\n",
       "      <td>S 500</td>\n",
       "    </tr>\n",
       "    <tr>\n",
       "      <th>3</th>\n",
       "      <td>Audi</td>\n",
       "      <td>23000.0</td>\n",
       "      <td>crossover</td>\n",
       "      <td>240</td>\n",
       "      <td>4.2</td>\n",
       "      <td>Petrol</td>\n",
       "      <td>yes</td>\n",
       "      <td>2007</td>\n",
       "      <td>Q7</td>\n",
       "    </tr>\n",
       "    <tr>\n",
       "      <th>4</th>\n",
       "      <td>Toyota</td>\n",
       "      <td>18300.0</td>\n",
       "      <td>crossover</td>\n",
       "      <td>120</td>\n",
       "      <td>2.0</td>\n",
       "      <td>Petrol</td>\n",
       "      <td>yes</td>\n",
       "      <td>2011</td>\n",
       "      <td>Rav 4</td>\n",
       "    </tr>\n",
       "    <tr>\n",
       "      <th>5</th>\n",
       "      <td>Mercedes-Benz</td>\n",
       "      <td>199999.0</td>\n",
       "      <td>crossover</td>\n",
       "      <td>0</td>\n",
       "      <td>5.5</td>\n",
       "      <td>Petrol</td>\n",
       "      <td>yes</td>\n",
       "      <td>2016</td>\n",
       "      <td>GLS 63</td>\n",
       "    </tr>\n",
       "    <tr>\n",
       "      <th>6</th>\n",
       "      <td>BMW</td>\n",
       "      <td>6100.0</td>\n",
       "      <td>sedan</td>\n",
       "      <td>438</td>\n",
       "      <td>2.0</td>\n",
       "      <td>Gas</td>\n",
       "      <td>yes</td>\n",
       "      <td>1997</td>\n",
       "      <td>320</td>\n",
       "    </tr>\n",
       "    <tr>\n",
       "      <th>7</th>\n",
       "      <td>Audi</td>\n",
       "      <td>14200.0</td>\n",
       "      <td>vagon</td>\n",
       "      <td>200</td>\n",
       "      <td>2.7</td>\n",
       "      <td>Diesel</td>\n",
       "      <td>yes</td>\n",
       "      <td>2006</td>\n",
       "      <td>A6</td>\n",
       "    </tr>\n",
       "    <tr>\n",
       "      <th>8</th>\n",
       "      <td>Renault</td>\n",
       "      <td>10799.0</td>\n",
       "      <td>vagon</td>\n",
       "      <td>193</td>\n",
       "      <td>1.5</td>\n",
       "      <td>Diesel</td>\n",
       "      <td>yes</td>\n",
       "      <td>2012</td>\n",
       "      <td>Megane</td>\n",
       "    </tr>\n",
       "    <tr>\n",
       "      <th>9</th>\n",
       "      <td>Volkswagen</td>\n",
       "      <td>1400.0</td>\n",
       "      <td>other</td>\n",
       "      <td>212</td>\n",
       "      <td>1.8</td>\n",
       "      <td>Gas</td>\n",
       "      <td>no</td>\n",
       "      <td>1999</td>\n",
       "      <td>Golf IV</td>\n",
       "    </tr>\n",
       "  </tbody>\n",
       "</table>\n",
       "</div>"
      ],
      "text/plain": [
       "           Brand     Price       Body  Mileage  EngineV EngineType  \\\n",
       "0            BMW    4200.0      sedan      277      2.0     Petrol   \n",
       "1  Mercedes-Benz    7900.0        van      427      2.9     Diesel   \n",
       "2  Mercedes-Benz   13300.0      sedan      358      5.0        Gas   \n",
       "3           Audi   23000.0  crossover      240      4.2     Petrol   \n",
       "4         Toyota   18300.0  crossover      120      2.0     Petrol   \n",
       "5  Mercedes-Benz  199999.0  crossover        0      5.5     Petrol   \n",
       "6            BMW    6100.0      sedan      438      2.0        Gas   \n",
       "7           Audi   14200.0      vagon      200      2.7     Diesel   \n",
       "8        Renault   10799.0      vagon      193      1.5     Diesel   \n",
       "9     Volkswagen    1400.0      other      212      1.8        Gas   \n",
       "\n",
       "  Registration  Year         Model  \n",
       "0          yes  1991           320  \n",
       "1          yes  1999  Sprinter 212  \n",
       "2          yes  2003         S 500  \n",
       "3          yes  2007            Q7  \n",
       "4          yes  2011         Rav 4  \n",
       "5          yes  2016        GLS 63  \n",
       "6          yes  1997           320  \n",
       "7          yes  2006            A6  \n",
       "8          yes  2012        Megane  \n",
       "9           no  1999       Golf IV  "
      ]
     },
     "execution_count": 3,
     "metadata": {},
     "output_type": "execute_result"
    }
   ],
   "source": [
    "# rename the engine type column\n",
    "cars.rename(columns={'Engine Type' : 'EngineType'}, inplace=True)\n",
    "cars.head(10)"
   ]
  },
  {
   "cell_type": "code",
   "execution_count": 4,
   "id": "9a0cb098",
   "metadata": {},
   "outputs": [
    {
     "data": {
      "text/html": [
       "<div>\n",
       "<style scoped>\n",
       "    .dataframe tbody tr th:only-of-type {\n",
       "        vertical-align: middle;\n",
       "    }\n",
       "\n",
       "    .dataframe tbody tr th {\n",
       "        vertical-align: top;\n",
       "    }\n",
       "\n",
       "    .dataframe thead th {\n",
       "        text-align: right;\n",
       "    }\n",
       "</style>\n",
       "<table border=\"1\" class=\"dataframe\">\n",
       "  <thead>\n",
       "    <tr style=\"text-align: right;\">\n",
       "      <th></th>\n",
       "      <th>Brand</th>\n",
       "      <th>Price</th>\n",
       "      <th>Body</th>\n",
       "      <th>Mileage</th>\n",
       "      <th>EngineV</th>\n",
       "      <th>EngineType</th>\n",
       "      <th>Year</th>\n",
       "    </tr>\n",
       "  </thead>\n",
       "  <tbody>\n",
       "    <tr>\n",
       "      <th>0</th>\n",
       "      <td>BMW</td>\n",
       "      <td>4200.0</td>\n",
       "      <td>sedan</td>\n",
       "      <td>277</td>\n",
       "      <td>2.0</td>\n",
       "      <td>Petrol</td>\n",
       "      <td>1991</td>\n",
       "    </tr>\n",
       "    <tr>\n",
       "      <th>1</th>\n",
       "      <td>Mercedes-Benz</td>\n",
       "      <td>7900.0</td>\n",
       "      <td>van</td>\n",
       "      <td>427</td>\n",
       "      <td>2.9</td>\n",
       "      <td>Diesel</td>\n",
       "      <td>1999</td>\n",
       "    </tr>\n",
       "    <tr>\n",
       "      <th>2</th>\n",
       "      <td>Mercedes-Benz</td>\n",
       "      <td>13300.0</td>\n",
       "      <td>sedan</td>\n",
       "      <td>358</td>\n",
       "      <td>5.0</td>\n",
       "      <td>Gas</td>\n",
       "      <td>2003</td>\n",
       "    </tr>\n",
       "    <tr>\n",
       "      <th>3</th>\n",
       "      <td>Audi</td>\n",
       "      <td>23000.0</td>\n",
       "      <td>crossover</td>\n",
       "      <td>240</td>\n",
       "      <td>4.2</td>\n",
       "      <td>Petrol</td>\n",
       "      <td>2007</td>\n",
       "    </tr>\n",
       "    <tr>\n",
       "      <th>4</th>\n",
       "      <td>Toyota</td>\n",
       "      <td>18300.0</td>\n",
       "      <td>crossover</td>\n",
       "      <td>120</td>\n",
       "      <td>2.0</td>\n",
       "      <td>Petrol</td>\n",
       "      <td>2011</td>\n",
       "    </tr>\n",
       "    <tr>\n",
       "      <th>5</th>\n",
       "      <td>Mercedes-Benz</td>\n",
       "      <td>199999.0</td>\n",
       "      <td>crossover</td>\n",
       "      <td>0</td>\n",
       "      <td>5.5</td>\n",
       "      <td>Petrol</td>\n",
       "      <td>2016</td>\n",
       "    </tr>\n",
       "    <tr>\n",
       "      <th>6</th>\n",
       "      <td>BMW</td>\n",
       "      <td>6100.0</td>\n",
       "      <td>sedan</td>\n",
       "      <td>438</td>\n",
       "      <td>2.0</td>\n",
       "      <td>Gas</td>\n",
       "      <td>1997</td>\n",
       "    </tr>\n",
       "    <tr>\n",
       "      <th>7</th>\n",
       "      <td>Audi</td>\n",
       "      <td>14200.0</td>\n",
       "      <td>vagon</td>\n",
       "      <td>200</td>\n",
       "      <td>2.7</td>\n",
       "      <td>Diesel</td>\n",
       "      <td>2006</td>\n",
       "    </tr>\n",
       "    <tr>\n",
       "      <th>8</th>\n",
       "      <td>Renault</td>\n",
       "      <td>10799.0</td>\n",
       "      <td>vagon</td>\n",
       "      <td>193</td>\n",
       "      <td>1.5</td>\n",
       "      <td>Diesel</td>\n",
       "      <td>2012</td>\n",
       "    </tr>\n",
       "    <tr>\n",
       "      <th>9</th>\n",
       "      <td>Volkswagen</td>\n",
       "      <td>1400.0</td>\n",
       "      <td>other</td>\n",
       "      <td>212</td>\n",
       "      <td>1.8</td>\n",
       "      <td>Gas</td>\n",
       "      <td>1999</td>\n",
       "    </tr>\n",
       "  </tbody>\n",
       "</table>\n",
       "</div>"
      ],
      "text/plain": [
       "           Brand     Price       Body  Mileage  EngineV EngineType  Year\n",
       "0            BMW    4200.0      sedan      277      2.0     Petrol  1991\n",
       "1  Mercedes-Benz    7900.0        van      427      2.9     Diesel  1999\n",
       "2  Mercedes-Benz   13300.0      sedan      358      5.0        Gas  2003\n",
       "3           Audi   23000.0  crossover      240      4.2     Petrol  2007\n",
       "4         Toyota   18300.0  crossover      120      2.0     Petrol  2011\n",
       "5  Mercedes-Benz  199999.0  crossover        0      5.5     Petrol  2016\n",
       "6            BMW    6100.0      sedan      438      2.0        Gas  1997\n",
       "7           Audi   14200.0      vagon      200      2.7     Diesel  2006\n",
       "8        Renault   10799.0      vagon      193      1.5     Diesel  2012\n",
       "9     Volkswagen    1400.0      other      212      1.8        Gas  1999"
      ]
     },
     "execution_count": 4,
     "metadata": {},
     "output_type": "execute_result"
    }
   ],
   "source": [
    "# drop irrelevant variables registration and model\n",
    "cars.drop(['Registration','Model'], axis=1, inplace=True)\n",
    "cars.head(10)"
   ]
  },
  {
   "cell_type": "code",
   "execution_count": 5,
   "id": "ad5e8a02",
   "metadata": {},
   "outputs": [
    {
     "data": {
      "text/html": [
       "<div>\n",
       "<style scoped>\n",
       "    .dataframe tbody tr th:only-of-type {\n",
       "        vertical-align: middle;\n",
       "    }\n",
       "\n",
       "    .dataframe tbody tr th {\n",
       "        vertical-align: top;\n",
       "    }\n",
       "\n",
       "    .dataframe thead th {\n",
       "        text-align: right;\n",
       "    }\n",
       "</style>\n",
       "<table border=\"1\" class=\"dataframe\">\n",
       "  <thead>\n",
       "    <tr style=\"text-align: right;\">\n",
       "      <th></th>\n",
       "      <th>Brand</th>\n",
       "      <th>Price</th>\n",
       "      <th>Body</th>\n",
       "      <th>Mileage</th>\n",
       "      <th>EngineV</th>\n",
       "      <th>EngineType</th>\n",
       "      <th>Year</th>\n",
       "    </tr>\n",
       "  </thead>\n",
       "  <tbody>\n",
       "    <tr>\n",
       "      <th>0</th>\n",
       "      <td>BMW</td>\n",
       "      <td>4200.0</td>\n",
       "      <td>sedan</td>\n",
       "      <td>277</td>\n",
       "      <td>2.0</td>\n",
       "      <td>Petrol</td>\n",
       "      <td>1991</td>\n",
       "    </tr>\n",
       "    <tr>\n",
       "      <th>1</th>\n",
       "      <td>Mercedes-Benz</td>\n",
       "      <td>7900.0</td>\n",
       "      <td>van</td>\n",
       "      <td>427</td>\n",
       "      <td>2.9</td>\n",
       "      <td>Diesel</td>\n",
       "      <td>1999</td>\n",
       "    </tr>\n",
       "    <tr>\n",
       "      <th>2</th>\n",
       "      <td>Mercedes-Benz</td>\n",
       "      <td>13300.0</td>\n",
       "      <td>sedan</td>\n",
       "      <td>358</td>\n",
       "      <td>5.0</td>\n",
       "      <td>Gas</td>\n",
       "      <td>2003</td>\n",
       "    </tr>\n",
       "    <tr>\n",
       "      <th>3</th>\n",
       "      <td>Audi</td>\n",
       "      <td>23000.0</td>\n",
       "      <td>crossover</td>\n",
       "      <td>240</td>\n",
       "      <td>4.2</td>\n",
       "      <td>Petrol</td>\n",
       "      <td>2007</td>\n",
       "    </tr>\n",
       "    <tr>\n",
       "      <th>4</th>\n",
       "      <td>Toyota</td>\n",
       "      <td>18300.0</td>\n",
       "      <td>crossover</td>\n",
       "      <td>120</td>\n",
       "      <td>2.0</td>\n",
       "      <td>Petrol</td>\n",
       "      <td>2011</td>\n",
       "    </tr>\n",
       "    <tr>\n",
       "      <th>5</th>\n",
       "      <td>Mercedes-Benz</td>\n",
       "      <td>199999.0</td>\n",
       "      <td>crossover</td>\n",
       "      <td>0</td>\n",
       "      <td>5.5</td>\n",
       "      <td>Petrol</td>\n",
       "      <td>2016</td>\n",
       "    </tr>\n",
       "    <tr>\n",
       "      <th>6</th>\n",
       "      <td>BMW</td>\n",
       "      <td>6100.0</td>\n",
       "      <td>sedan</td>\n",
       "      <td>438</td>\n",
       "      <td>2.0</td>\n",
       "      <td>Gas</td>\n",
       "      <td>1997</td>\n",
       "    </tr>\n",
       "    <tr>\n",
       "      <th>7</th>\n",
       "      <td>Audi</td>\n",
       "      <td>14200.0</td>\n",
       "      <td>vagon</td>\n",
       "      <td>200</td>\n",
       "      <td>2.7</td>\n",
       "      <td>Diesel</td>\n",
       "      <td>2006</td>\n",
       "    </tr>\n",
       "    <tr>\n",
       "      <th>8</th>\n",
       "      <td>Renault</td>\n",
       "      <td>10799.0</td>\n",
       "      <td>vagon</td>\n",
       "      <td>193</td>\n",
       "      <td>1.5</td>\n",
       "      <td>Diesel</td>\n",
       "      <td>2012</td>\n",
       "    </tr>\n",
       "    <tr>\n",
       "      <th>9</th>\n",
       "      <td>Volkswagen</td>\n",
       "      <td>1400.0</td>\n",
       "      <td>other</td>\n",
       "      <td>212</td>\n",
       "      <td>1.8</td>\n",
       "      <td>Gas</td>\n",
       "      <td>1999</td>\n",
       "    </tr>\n",
       "  </tbody>\n",
       "</table>\n",
       "</div>"
      ],
      "text/plain": [
       "           Brand     Price       Body  Mileage  EngineV EngineType  Year\n",
       "0            BMW    4200.0      sedan      277      2.0     Petrol  1991\n",
       "1  Mercedes-Benz    7900.0        van      427      2.9     Diesel  1999\n",
       "2  Mercedes-Benz   13300.0      sedan      358      5.0        Gas  2003\n",
       "3           Audi   23000.0  crossover      240      4.2     Petrol  2007\n",
       "4         Toyota   18300.0  crossover      120      2.0     Petrol  2011\n",
       "5  Mercedes-Benz  199999.0  crossover        0      5.5     Petrol  2016\n",
       "6            BMW    6100.0      sedan      438      2.0        Gas  1997\n",
       "7           Audi   14200.0      vagon      200      2.7     Diesel  2006\n",
       "8        Renault   10799.0      vagon      193      1.5     Diesel  2012\n",
       "9     Volkswagen    1400.0      other      212      1.8        Gas  1999"
      ]
     },
     "execution_count": 5,
     "metadata": {},
     "output_type": "execute_result"
    }
   ],
   "source": [
    "# delete NaN values\n",
    "cars.dropna(inplace=True)\n",
    "cars1=cars.dropna().reset_index(drop=True)\n",
    "cars1.head(10)"
   ]
  },
  {
   "cell_type": "code",
   "execution_count": 6,
   "id": "e45ccdcf",
   "metadata": {},
   "outputs": [
    {
     "data": {
      "text/html": [
       "<div>\n",
       "<style scoped>\n",
       "    .dataframe tbody tr th:only-of-type {\n",
       "        vertical-align: middle;\n",
       "    }\n",
       "\n",
       "    .dataframe tbody tr th {\n",
       "        vertical-align: top;\n",
       "    }\n",
       "\n",
       "    .dataframe thead th {\n",
       "        text-align: right;\n",
       "    }\n",
       "</style>\n",
       "<table border=\"1\" class=\"dataframe\">\n",
       "  <thead>\n",
       "    <tr style=\"text-align: right;\">\n",
       "      <th></th>\n",
       "      <th>Brand</th>\n",
       "      <th>Price</th>\n",
       "      <th>Body</th>\n",
       "      <th>Mileage</th>\n",
       "      <th>EngineV</th>\n",
       "      <th>EngineType</th>\n",
       "      <th>Year</th>\n",
       "    </tr>\n",
       "  </thead>\n",
       "  <tbody>\n",
       "    <tr>\n",
       "      <th>0</th>\n",
       "      <td>BMW</td>\n",
       "      <td>4200.0</td>\n",
       "      <td>sedan</td>\n",
       "      <td>277</td>\n",
       "      <td>2.0</td>\n",
       "      <td>Petrol</td>\n",
       "      <td>1991</td>\n",
       "    </tr>\n",
       "    <tr>\n",
       "      <th>1</th>\n",
       "      <td>Mercedes-Benz</td>\n",
       "      <td>7900.0</td>\n",
       "      <td>van</td>\n",
       "      <td>427</td>\n",
       "      <td>2.9</td>\n",
       "      <td>Diesel</td>\n",
       "      <td>1999</td>\n",
       "    </tr>\n",
       "    <tr>\n",
       "      <th>2</th>\n",
       "      <td>Mercedes-Benz</td>\n",
       "      <td>13300.0</td>\n",
       "      <td>sedan</td>\n",
       "      <td>358</td>\n",
       "      <td>5.0</td>\n",
       "      <td>Gas</td>\n",
       "      <td>2003</td>\n",
       "    </tr>\n",
       "    <tr>\n",
       "      <th>3</th>\n",
       "      <td>Audi</td>\n",
       "      <td>23000.0</td>\n",
       "      <td>crossover</td>\n",
       "      <td>240</td>\n",
       "      <td>4.2</td>\n",
       "      <td>Petrol</td>\n",
       "      <td>2007</td>\n",
       "    </tr>\n",
       "    <tr>\n",
       "      <th>4</th>\n",
       "      <td>Toyota</td>\n",
       "      <td>18300.0</td>\n",
       "      <td>crossover</td>\n",
       "      <td>120</td>\n",
       "      <td>2.0</td>\n",
       "      <td>Petrol</td>\n",
       "      <td>2011</td>\n",
       "    </tr>\n",
       "    <tr>\n",
       "      <th>6</th>\n",
       "      <td>BMW</td>\n",
       "      <td>6100.0</td>\n",
       "      <td>sedan</td>\n",
       "      <td>438</td>\n",
       "      <td>2.0</td>\n",
       "      <td>Gas</td>\n",
       "      <td>1997</td>\n",
       "    </tr>\n",
       "    <tr>\n",
       "      <th>7</th>\n",
       "      <td>Audi</td>\n",
       "      <td>14200.0</td>\n",
       "      <td>vagon</td>\n",
       "      <td>200</td>\n",
       "      <td>2.7</td>\n",
       "      <td>Diesel</td>\n",
       "      <td>2006</td>\n",
       "    </tr>\n",
       "    <tr>\n",
       "      <th>8</th>\n",
       "      <td>Renault</td>\n",
       "      <td>10799.0</td>\n",
       "      <td>vagon</td>\n",
       "      <td>193</td>\n",
       "      <td>1.5</td>\n",
       "      <td>Diesel</td>\n",
       "      <td>2012</td>\n",
       "    </tr>\n",
       "    <tr>\n",
       "      <th>9</th>\n",
       "      <td>Volkswagen</td>\n",
       "      <td>1400.0</td>\n",
       "      <td>other</td>\n",
       "      <td>212</td>\n",
       "      <td>1.8</td>\n",
       "      <td>Gas</td>\n",
       "      <td>1999</td>\n",
       "    </tr>\n",
       "    <tr>\n",
       "      <th>10</th>\n",
       "      <td>Renault</td>\n",
       "      <td>11950.0</td>\n",
       "      <td>vagon</td>\n",
       "      <td>177</td>\n",
       "      <td>1.5</td>\n",
       "      <td>Diesel</td>\n",
       "      <td>2011</td>\n",
       "    </tr>\n",
       "  </tbody>\n",
       "</table>\n",
       "</div>"
      ],
      "text/plain": [
       "            Brand    Price       Body  Mileage  EngineV EngineType  Year\n",
       "0             BMW   4200.0      sedan      277      2.0     Petrol  1991\n",
       "1   Mercedes-Benz   7900.0        van      427      2.9     Diesel  1999\n",
       "2   Mercedes-Benz  13300.0      sedan      358      5.0        Gas  2003\n",
       "3            Audi  23000.0  crossover      240      4.2     Petrol  2007\n",
       "4          Toyota  18300.0  crossover      120      2.0     Petrol  2011\n",
       "6             BMW   6100.0      sedan      438      2.0        Gas  1997\n",
       "7            Audi  14200.0      vagon      200      2.7     Diesel  2006\n",
       "8         Renault  10799.0      vagon      193      1.5     Diesel  2012\n",
       "9      Volkswagen   1400.0      other      212      1.8        Gas  1999\n",
       "10        Renault  11950.0      vagon      177      1.5     Diesel  2011"
      ]
     },
     "execution_count": 6,
     "metadata": {},
     "output_type": "execute_result"
    }
   ],
   "source": [
    "# drop any rows that have 0 in the miles column\n",
    "cars2 = cars1[cars1.Mileage != 0]\n",
    "cars2.head(10)"
   ]
  },
  {
   "cell_type": "markdown",
   "id": "80426875",
   "metadata": {},
   "source": [
    "### The data looks much cleaner. Now, need to convert non numeric variables to numeric."
   ]
  },
  {
   "cell_type": "code",
   "execution_count": 7,
   "id": "22dbee24",
   "metadata": {},
   "outputs": [
    {
     "data": {
      "text/plain": [
       "Brand          object\n",
       "Price         float64\n",
       "Body           object\n",
       "Mileage         int64\n",
       "EngineV       float64\n",
       "EngineType     object\n",
       "Year            int64\n",
       "dtype: object"
      ]
     },
     "execution_count": 7,
     "metadata": {},
     "output_type": "execute_result"
    }
   ],
   "source": [
    "# check to see which variables are non numeric\n",
    "cars2.dtypes"
   ]
  },
  {
   "cell_type": "markdown",
   "id": "2133ddd3",
   "metadata": {},
   "source": [
    " Brand, Body, and EngineType need to be converted. First, we need to check levels of each variable to see how to recode it."
   ]
  },
  {
   "cell_type": "code",
   "execution_count": 8,
   "id": "f21774fb",
   "metadata": {
    "scrolled": true
   },
   "outputs": [
    {
     "data": {
      "text/plain": [
       "Volkswagen       854\n",
       "Mercedes-Benz    768\n",
       "BMW              622\n",
       "Toyota           490\n",
       "Renault          434\n",
       "Audi             410\n",
       "Mitsubishi       300\n",
       "Name: Brand, dtype: int64"
      ]
     },
     "execution_count": 8,
     "metadata": {},
     "output_type": "execute_result"
    }
   ],
   "source": [
    "# levels of Brand\n",
    "cars2['Brand'].value_counts(sort=True)"
   ]
  },
  {
   "cell_type": "code",
   "execution_count": 9,
   "id": "3e113896",
   "metadata": {},
   "outputs": [
    {
     "data": {
      "text/plain": [
       "sedan        1505\n",
       "crossover     740\n",
       "van           612\n",
       "other         383\n",
       "vagon         374\n",
       "hatch         264\n",
       "Name: Body, dtype: int64"
      ]
     },
     "execution_count": 9,
     "metadata": {},
     "output_type": "execute_result"
    }
   ],
   "source": [
    "# levels of Body\n",
    "cars2['Body'].value_counts(sort=True)"
   ]
  },
  {
   "cell_type": "code",
   "execution_count": 10,
   "id": "b1132277",
   "metadata": {},
   "outputs": [
    {
     "data": {
      "text/plain": [
       "Diesel    1766\n",
       "Petrol    1417\n",
       "Gas        590\n",
       "Other      105\n",
       "Name: EngineType, dtype: int64"
      ]
     },
     "execution_count": 10,
     "metadata": {},
     "output_type": "execute_result"
    }
   ],
   "source": [
    "# Levels of EngineType\n",
    "cars2['EngineType'].value_counts(sort=True)"
   ]
  },
  {
   "cell_type": "markdown",
   "id": "4e38bd57",
   "metadata": {},
   "source": [
    "We'll need to recode 7 levels for the Brand, 6 for the Body, and 4 for the Engine Type"
   ]
  },
  {
   "cell_type": "markdown",
   "id": "a28f768f",
   "metadata": {},
   "source": [
    "### Recoding"
   ]
  },
  {
   "cell_type": "code",
   "execution_count": 11,
   "id": "d27fdce2",
   "metadata": {},
   "outputs": [
    {
     "name": "stderr",
     "output_type": "stream",
     "text": [
      "C:\\Users\\melan\\anaconda3\\lib\\site-packages\\pandas\\core\\indexing.py:1773: SettingWithCopyWarning: \n",
      "A value is trying to be set on a copy of a slice from a DataFrame.\n",
      "Try using .loc[row_indexer,col_indexer] = value instead\n",
      "\n",
      "See the caveats in the documentation: https://pandas.pydata.org/pandas-docs/stable/user_guide/indexing.html#returning-a-view-versus-a-copy\n",
      "  self._setitem_single_column(ilocs[0], value, pi)\n"
     ]
    },
    {
     "data": {
      "text/html": [
       "<div>\n",
       "<style scoped>\n",
       "    .dataframe tbody tr th:only-of-type {\n",
       "        vertical-align: middle;\n",
       "    }\n",
       "\n",
       "    .dataframe tbody tr th {\n",
       "        vertical-align: top;\n",
       "    }\n",
       "\n",
       "    .dataframe thead th {\n",
       "        text-align: right;\n",
       "    }\n",
       "</style>\n",
       "<table border=\"1\" class=\"dataframe\">\n",
       "  <thead>\n",
       "    <tr style=\"text-align: right;\">\n",
       "      <th></th>\n",
       "      <th>Brand</th>\n",
       "      <th>Price</th>\n",
       "      <th>Body</th>\n",
       "      <th>Mileage</th>\n",
       "      <th>EngineV</th>\n",
       "      <th>EngineType</th>\n",
       "      <th>Year</th>\n",
       "    </tr>\n",
       "  </thead>\n",
       "  <tbody>\n",
       "    <tr>\n",
       "      <th>0</th>\n",
       "      <td>2</td>\n",
       "      <td>4200.0</td>\n",
       "      <td>sedan</td>\n",
       "      <td>277</td>\n",
       "      <td>2.0</td>\n",
       "      <td>Petrol</td>\n",
       "      <td>1991</td>\n",
       "    </tr>\n",
       "    <tr>\n",
       "      <th>1</th>\n",
       "      <td>1</td>\n",
       "      <td>7900.0</td>\n",
       "      <td>van</td>\n",
       "      <td>427</td>\n",
       "      <td>2.9</td>\n",
       "      <td>Diesel</td>\n",
       "      <td>1999</td>\n",
       "    </tr>\n",
       "    <tr>\n",
       "      <th>2</th>\n",
       "      <td>1</td>\n",
       "      <td>13300.0</td>\n",
       "      <td>sedan</td>\n",
       "      <td>358</td>\n",
       "      <td>5.0</td>\n",
       "      <td>Gas</td>\n",
       "      <td>2003</td>\n",
       "    </tr>\n",
       "    <tr>\n",
       "      <th>3</th>\n",
       "      <td>5</td>\n",
       "      <td>23000.0</td>\n",
       "      <td>crossover</td>\n",
       "      <td>240</td>\n",
       "      <td>4.2</td>\n",
       "      <td>Petrol</td>\n",
       "      <td>2007</td>\n",
       "    </tr>\n",
       "    <tr>\n",
       "      <th>4</th>\n",
       "      <td>3</td>\n",
       "      <td>18300.0</td>\n",
       "      <td>crossover</td>\n",
       "      <td>120</td>\n",
       "      <td>2.0</td>\n",
       "      <td>Petrol</td>\n",
       "      <td>2011</td>\n",
       "    </tr>\n",
       "  </tbody>\n",
       "</table>\n",
       "</div>"
      ],
      "text/plain": [
       "   Brand    Price       Body  Mileage  EngineV EngineType  Year\n",
       "0      2   4200.0      sedan      277      2.0     Petrol  1991\n",
       "1      1   7900.0        van      427      2.9     Diesel  1999\n",
       "2      1  13300.0      sedan      358      5.0        Gas  2003\n",
       "3      5  23000.0  crossover      240      4.2     Petrol  2007\n",
       "4      3  18300.0  crossover      120      2.0     Petrol  2011"
      ]
     },
     "execution_count": 11,
     "metadata": {},
     "output_type": "execute_result"
    }
   ],
   "source": [
    "# recoding Brand\n",
    "cleanup = {\"Brand\" : {\"Volkswagen\" : 0, \"Mercedes-Benz\" : 1, \"BMW\" : 2, \"Toyota\" : 3, \"Renault\" : 4, \"Audi\" : 5, \"Mitsubishi\" : 6}}\n",
    "cars2.replace(cleanup, inplace=True)\n",
    "cars2.head()"
   ]
  },
  {
   "cell_type": "code",
   "execution_count": 12,
   "id": "b6c43f56",
   "metadata": {},
   "outputs": [
    {
     "name": "stderr",
     "output_type": "stream",
     "text": [
      "C:\\Users\\melan\\anaconda3\\lib\\site-packages\\pandas\\core\\indexing.py:1773: SettingWithCopyWarning: \n",
      "A value is trying to be set on a copy of a slice from a DataFrame.\n",
      "Try using .loc[row_indexer,col_indexer] = value instead\n",
      "\n",
      "See the caveats in the documentation: https://pandas.pydata.org/pandas-docs/stable/user_guide/indexing.html#returning-a-view-versus-a-copy\n",
      "  self._setitem_single_column(ilocs[0], value, pi)\n"
     ]
    },
    {
     "data": {
      "text/html": [
       "<div>\n",
       "<style scoped>\n",
       "    .dataframe tbody tr th:only-of-type {\n",
       "        vertical-align: middle;\n",
       "    }\n",
       "\n",
       "    .dataframe tbody tr th {\n",
       "        vertical-align: top;\n",
       "    }\n",
       "\n",
       "    .dataframe thead th {\n",
       "        text-align: right;\n",
       "    }\n",
       "</style>\n",
       "<table border=\"1\" class=\"dataframe\">\n",
       "  <thead>\n",
       "    <tr style=\"text-align: right;\">\n",
       "      <th></th>\n",
       "      <th>Brand</th>\n",
       "      <th>Price</th>\n",
       "      <th>Body</th>\n",
       "      <th>Mileage</th>\n",
       "      <th>EngineV</th>\n",
       "      <th>EngineType</th>\n",
       "      <th>Year</th>\n",
       "    </tr>\n",
       "  </thead>\n",
       "  <tbody>\n",
       "    <tr>\n",
       "      <th>0</th>\n",
       "      <td>2</td>\n",
       "      <td>4200.0</td>\n",
       "      <td>0</td>\n",
       "      <td>277</td>\n",
       "      <td>2.0</td>\n",
       "      <td>Petrol</td>\n",
       "      <td>1991</td>\n",
       "    </tr>\n",
       "    <tr>\n",
       "      <th>1</th>\n",
       "      <td>1</td>\n",
       "      <td>7900.0</td>\n",
       "      <td>2</td>\n",
       "      <td>427</td>\n",
       "      <td>2.9</td>\n",
       "      <td>Diesel</td>\n",
       "      <td>1999</td>\n",
       "    </tr>\n",
       "    <tr>\n",
       "      <th>2</th>\n",
       "      <td>1</td>\n",
       "      <td>13300.0</td>\n",
       "      <td>0</td>\n",
       "      <td>358</td>\n",
       "      <td>5.0</td>\n",
       "      <td>Gas</td>\n",
       "      <td>2003</td>\n",
       "    </tr>\n",
       "    <tr>\n",
       "      <th>3</th>\n",
       "      <td>5</td>\n",
       "      <td>23000.0</td>\n",
       "      <td>1</td>\n",
       "      <td>240</td>\n",
       "      <td>4.2</td>\n",
       "      <td>Petrol</td>\n",
       "      <td>2007</td>\n",
       "    </tr>\n",
       "    <tr>\n",
       "      <th>4</th>\n",
       "      <td>3</td>\n",
       "      <td>18300.0</td>\n",
       "      <td>1</td>\n",
       "      <td>120</td>\n",
       "      <td>2.0</td>\n",
       "      <td>Petrol</td>\n",
       "      <td>2011</td>\n",
       "    </tr>\n",
       "  </tbody>\n",
       "</table>\n",
       "</div>"
      ],
      "text/plain": [
       "   Brand    Price  Body  Mileage  EngineV EngineType  Year\n",
       "0      2   4200.0     0      277      2.0     Petrol  1991\n",
       "1      1   7900.0     2      427      2.9     Diesel  1999\n",
       "2      1  13300.0     0      358      5.0        Gas  2003\n",
       "3      5  23000.0     1      240      4.2     Petrol  2007\n",
       "4      3  18300.0     1      120      2.0     Petrol  2011"
      ]
     },
     "execution_count": 12,
     "metadata": {},
     "output_type": "execute_result"
    }
   ],
   "source": [
    "# recoding Body\n",
    "cleanup = {\"Body\" : {\"sedan\" : 0, \"crossover\" : 1, \"van\" : 2, \"other\" : 3, \"vagon\" : 4, \"hatch\" : 5}}\n",
    "cars2.replace(cleanup, inplace=True)\n",
    "cars2.head()"
   ]
  },
  {
   "cell_type": "code",
   "execution_count": 13,
   "id": "1b2ad256",
   "metadata": {},
   "outputs": [
    {
     "name": "stderr",
     "output_type": "stream",
     "text": [
      "C:\\Users\\melan\\anaconda3\\lib\\site-packages\\pandas\\core\\indexing.py:1773: SettingWithCopyWarning: \n",
      "A value is trying to be set on a copy of a slice from a DataFrame.\n",
      "Try using .loc[row_indexer,col_indexer] = value instead\n",
      "\n",
      "See the caveats in the documentation: https://pandas.pydata.org/pandas-docs/stable/user_guide/indexing.html#returning-a-view-versus-a-copy\n",
      "  self._setitem_single_column(ilocs[0], value, pi)\n"
     ]
    },
    {
     "data": {
      "text/html": [
       "<div>\n",
       "<style scoped>\n",
       "    .dataframe tbody tr th:only-of-type {\n",
       "        vertical-align: middle;\n",
       "    }\n",
       "\n",
       "    .dataframe tbody tr th {\n",
       "        vertical-align: top;\n",
       "    }\n",
       "\n",
       "    .dataframe thead th {\n",
       "        text-align: right;\n",
       "    }\n",
       "</style>\n",
       "<table border=\"1\" class=\"dataframe\">\n",
       "  <thead>\n",
       "    <tr style=\"text-align: right;\">\n",
       "      <th></th>\n",
       "      <th>Brand</th>\n",
       "      <th>Price</th>\n",
       "      <th>Body</th>\n",
       "      <th>Mileage</th>\n",
       "      <th>EngineV</th>\n",
       "      <th>EngineType</th>\n",
       "      <th>Year</th>\n",
       "    </tr>\n",
       "  </thead>\n",
       "  <tbody>\n",
       "    <tr>\n",
       "      <th>0</th>\n",
       "      <td>2</td>\n",
       "      <td>4200.0</td>\n",
       "      <td>0</td>\n",
       "      <td>277</td>\n",
       "      <td>2.0</td>\n",
       "      <td>1</td>\n",
       "      <td>1991</td>\n",
       "    </tr>\n",
       "    <tr>\n",
       "      <th>1</th>\n",
       "      <td>1</td>\n",
       "      <td>7900.0</td>\n",
       "      <td>2</td>\n",
       "      <td>427</td>\n",
       "      <td>2.9</td>\n",
       "      <td>0</td>\n",
       "      <td>1999</td>\n",
       "    </tr>\n",
       "    <tr>\n",
       "      <th>2</th>\n",
       "      <td>1</td>\n",
       "      <td>13300.0</td>\n",
       "      <td>0</td>\n",
       "      <td>358</td>\n",
       "      <td>5.0</td>\n",
       "      <td>2</td>\n",
       "      <td>2003</td>\n",
       "    </tr>\n",
       "    <tr>\n",
       "      <th>3</th>\n",
       "      <td>5</td>\n",
       "      <td>23000.0</td>\n",
       "      <td>1</td>\n",
       "      <td>240</td>\n",
       "      <td>4.2</td>\n",
       "      <td>1</td>\n",
       "      <td>2007</td>\n",
       "    </tr>\n",
       "    <tr>\n",
       "      <th>4</th>\n",
       "      <td>3</td>\n",
       "      <td>18300.0</td>\n",
       "      <td>1</td>\n",
       "      <td>120</td>\n",
       "      <td>2.0</td>\n",
       "      <td>1</td>\n",
       "      <td>2011</td>\n",
       "    </tr>\n",
       "  </tbody>\n",
       "</table>\n",
       "</div>"
      ],
      "text/plain": [
       "   Brand    Price  Body  Mileage  EngineV  EngineType  Year\n",
       "0      2   4200.0     0      277      2.0           1  1991\n",
       "1      1   7900.0     2      427      2.9           0  1999\n",
       "2      1  13300.0     0      358      5.0           2  2003\n",
       "3      5  23000.0     1      240      4.2           1  2007\n",
       "4      3  18300.0     1      120      2.0           1  2011"
      ]
     },
     "execution_count": 13,
     "metadata": {},
     "output_type": "execute_result"
    }
   ],
   "source": [
    "# recode Engine Type\n",
    "cleanup = {\"EngineType\" : {\"Diesel\" : 0, \"Petrol\" : 1, \"Gas\" : 2, \"Other\" : 3}}\n",
    "cars2.replace(cleanup, inplace=True)\n",
    "cars2.head()"
   ]
  },
  {
   "cell_type": "markdown",
   "id": "72a93eb7",
   "metadata": {},
   "source": [
    "Awesome! Now we're ready to start analysis."
   ]
  },
  {
   "cell_type": "markdown",
   "id": "19084b3c",
   "metadata": {},
   "source": [
    "## Exploratory Analyses\n",
    "\n",
    "### For some exploratory analysis, we can do a correlation matrix, look at descriptive statistics, make a few plots for each variable, and finally play around in Tableau."
   ]
  },
  {
   "cell_type": "code",
   "execution_count": 14,
   "id": "03f10fd8",
   "metadata": {},
   "outputs": [
    {
     "data": {
      "text/html": [
       "<div>\n",
       "<style scoped>\n",
       "    .dataframe tbody tr th:only-of-type {\n",
       "        vertical-align: middle;\n",
       "    }\n",
       "\n",
       "    .dataframe tbody tr th {\n",
       "        vertical-align: top;\n",
       "    }\n",
       "\n",
       "    .dataframe thead th {\n",
       "        text-align: right;\n",
       "    }\n",
       "</style>\n",
       "<table border=\"1\" class=\"dataframe\">\n",
       "  <thead>\n",
       "    <tr style=\"text-align: right;\">\n",
       "      <th></th>\n",
       "      <th>Brand</th>\n",
       "      <th>Price</th>\n",
       "      <th>Body</th>\n",
       "      <th>Mileage</th>\n",
       "      <th>EngineV</th>\n",
       "      <th>EngineType</th>\n",
       "      <th>Year</th>\n",
       "    </tr>\n",
       "  </thead>\n",
       "  <tbody>\n",
       "    <tr>\n",
       "      <th>0</th>\n",
       "      <td>2</td>\n",
       "      <td>4200.0</td>\n",
       "      <td>0</td>\n",
       "      <td>277</td>\n",
       "      <td>2.0</td>\n",
       "      <td>1</td>\n",
       "      <td>1991</td>\n",
       "    </tr>\n",
       "    <tr>\n",
       "      <th>1</th>\n",
       "      <td>1</td>\n",
       "      <td>7900.0</td>\n",
       "      <td>2</td>\n",
       "      <td>427</td>\n",
       "      <td>2.9</td>\n",
       "      <td>0</td>\n",
       "      <td>1999</td>\n",
       "    </tr>\n",
       "    <tr>\n",
       "      <th>2</th>\n",
       "      <td>1</td>\n",
       "      <td>13300.0</td>\n",
       "      <td>0</td>\n",
       "      <td>358</td>\n",
       "      <td>5.0</td>\n",
       "      <td>2</td>\n",
       "      <td>2003</td>\n",
       "    </tr>\n",
       "    <tr>\n",
       "      <th>3</th>\n",
       "      <td>5</td>\n",
       "      <td>23000.0</td>\n",
       "      <td>1</td>\n",
       "      <td>240</td>\n",
       "      <td>4.2</td>\n",
       "      <td>1</td>\n",
       "      <td>2007</td>\n",
       "    </tr>\n",
       "    <tr>\n",
       "      <th>4</th>\n",
       "      <td>3</td>\n",
       "      <td>18300.0</td>\n",
       "      <td>1</td>\n",
       "      <td>120</td>\n",
       "      <td>2.0</td>\n",
       "      <td>1</td>\n",
       "      <td>2011</td>\n",
       "    </tr>\n",
       "  </tbody>\n",
       "</table>\n",
       "</div>"
      ],
      "text/plain": [
       "   Brand    Price  Body  Mileage  EngineV  EngineType  Year\n",
       "0      2   4200.0     0      277      2.0           1  1991\n",
       "1      1   7900.0     2      427      2.9           0  1999\n",
       "2      1  13300.0     0      358      5.0           2  2003\n",
       "3      5  23000.0     1      240      4.2           1  2007\n",
       "4      3  18300.0     1      120      2.0           1  2011"
      ]
     },
     "execution_count": 14,
     "metadata": {},
     "output_type": "execute_result"
    }
   ],
   "source": [
    "# pull up our data\n",
    "cars2.head()"
   ]
  },
  {
   "cell_type": "markdown",
   "id": "9547fb06",
   "metadata": {},
   "source": [
    "How about we get a more visual representation?"
   ]
  },
  {
   "cell_type": "code",
   "execution_count": 15,
   "id": "89347d75",
   "metadata": {},
   "outputs": [
    {
     "data": {
      "text/html": [
       "<style type=\"text/css\">\n",
       "#T_efeb9_row0_col0, #T_efeb9_row1_col1, #T_efeb9_row2_col2, #T_efeb9_row3_col3, #T_efeb9_row4_col4, #T_efeb9_row5_col5, #T_efeb9_row6_col6 {\n",
       "  background-color: #b40426;\n",
       "  color: #f1f1f1;\n",
       "}\n",
       "#T_efeb9_row0_col1 {\n",
       "  background-color: #3f53c6;\n",
       "  color: #f1f1f1;\n",
       "}\n",
       "#T_efeb9_row0_col2 {\n",
       "  background-color: #4c66d6;\n",
       "  color: #f1f1f1;\n",
       "}\n",
       "#T_efeb9_row0_col3, #T_efeb9_row1_col3, #T_efeb9_row2_col5, #T_efeb9_row3_col6, #T_efeb9_row4_col2, #T_efeb9_row5_col2, #T_efeb9_row6_col3 {\n",
       "  background-color: #3b4cc0;\n",
       "  color: #f1f1f1;\n",
       "}\n",
       "#T_efeb9_row0_col4 {\n",
       "  background-color: #4f69d9;\n",
       "  color: #f1f1f1;\n",
       "}\n",
       "#T_efeb9_row0_col5 {\n",
       "  background-color: #81a4fb;\n",
       "  color: #f1f1f1;\n",
       "}\n",
       "#T_efeb9_row0_col6 {\n",
       "  background-color: #5b7ae5;\n",
       "  color: #f1f1f1;\n",
       "}\n",
       "#T_efeb9_row1_col0 {\n",
       "  background-color: #8fb1fe;\n",
       "  color: #000000;\n",
       "}\n",
       "#T_efeb9_row1_col2 {\n",
       "  background-color: #84a7fc;\n",
       "  color: #f1f1f1;\n",
       "}\n",
       "#T_efeb9_row1_col4 {\n",
       "  background-color: #adc9fd;\n",
       "  color: #000000;\n",
       "}\n",
       "#T_efeb9_row1_col5, #T_efeb9_row5_col0 {\n",
       "  background-color: #92b4fe;\n",
       "  color: #000000;\n",
       "}\n",
       "#T_efeb9_row1_col6 {\n",
       "  background-color: #f5c4ac;\n",
       "  color: #000000;\n",
       "}\n",
       "#T_efeb9_row2_col0 {\n",
       "  background-color: #5e7de7;\n",
       "  color: #f1f1f1;\n",
       "}\n",
       "#T_efeb9_row2_col1 {\n",
       "  background-color: #455cce;\n",
       "  color: #f1f1f1;\n",
       "}\n",
       "#T_efeb9_row2_col3 {\n",
       "  background-color: #6485ec;\n",
       "  color: #f1f1f1;\n",
       "}\n",
       "#T_efeb9_row2_col4, #T_efeb9_row4_col3, #T_efeb9_row5_col1 {\n",
       "  background-color: #5470de;\n",
       "  color: #f1f1f1;\n",
       "}\n",
       "#T_efeb9_row2_col6 {\n",
       "  background-color: #6f92f3;\n",
       "  color: #f1f1f1;\n",
       "}\n",
       "#T_efeb9_row3_col0 {\n",
       "  background-color: #aac7fd;\n",
       "  color: #000000;\n",
       "}\n",
       "#T_efeb9_row3_col1 {\n",
       "  background-color: #5f7fe8;\n",
       "  color: #f1f1f1;\n",
       "}\n",
       "#T_efeb9_row3_col2 {\n",
       "  background-color: #bbd1f8;\n",
       "  color: #000000;\n",
       "}\n",
       "#T_efeb9_row3_col4, #T_efeb9_row6_col0 {\n",
       "  background-color: #c1d4f4;\n",
       "  color: #000000;\n",
       "}\n",
       "#T_efeb9_row3_col5 {\n",
       "  background-color: #b2ccfb;\n",
       "  color: #000000;\n",
       "}\n",
       "#T_efeb9_row4_col0 {\n",
       "  background-color: #485fd1;\n",
       "  color: #f1f1f1;\n",
       "}\n",
       "#T_efeb9_row4_col1, #T_efeb9_row4_col5 {\n",
       "  background-color: #5d7ce6;\n",
       "  color: #f1f1f1;\n",
       "}\n",
       "#T_efeb9_row4_col6 {\n",
       "  background-color: #4358cb;\n",
       "  color: #f1f1f1;\n",
       "}\n",
       "#T_efeb9_row5_col3 {\n",
       "  background-color: #5673e0;\n",
       "  color: #f1f1f1;\n",
       "}\n",
       "#T_efeb9_row5_col4 {\n",
       "  background-color: #7699f6;\n",
       "  color: #f1f1f1;\n",
       "}\n",
       "#T_efeb9_row5_col6 {\n",
       "  background-color: #3d50c3;\n",
       "  color: #f1f1f1;\n",
       "}\n",
       "#T_efeb9_row6_col1 {\n",
       "  background-color: #f7b599;\n",
       "  color: #000000;\n",
       "}\n",
       "#T_efeb9_row6_col2 {\n",
       "  background-color: #c3d5f4;\n",
       "  color: #000000;\n",
       "}\n",
       "#T_efeb9_row6_col4 {\n",
       "  background-color: #b6cefa;\n",
       "  color: #000000;\n",
       "}\n",
       "#T_efeb9_row6_col5 {\n",
       "  background-color: #9ebeff;\n",
       "  color: #000000;\n",
       "}\n",
       "</style>\n",
       "<table id=\"T_efeb9_\">\n",
       "  <thead>\n",
       "    <tr>\n",
       "      <th class=\"blank level0\" >&nbsp;</th>\n",
       "      <th class=\"col_heading level0 col0\" >Brand</th>\n",
       "      <th class=\"col_heading level0 col1\" >Price</th>\n",
       "      <th class=\"col_heading level0 col2\" >Body</th>\n",
       "      <th class=\"col_heading level0 col3\" >Mileage</th>\n",
       "      <th class=\"col_heading level0 col4\" >EngineV</th>\n",
       "      <th class=\"col_heading level0 col5\" >EngineType</th>\n",
       "      <th class=\"col_heading level0 col6\" >Year</th>\n",
       "    </tr>\n",
       "  </thead>\n",
       "  <tbody>\n",
       "    <tr>\n",
       "      <th id=\"T_efeb9_level0_row0\" class=\"row_heading level0 row0\" >Brand</th>\n",
       "      <td id=\"T_efeb9_row0_col0\" class=\"data row0 col0\" >1.0</td>\n",
       "      <td id=\"T_efeb9_row0_col1\" class=\"data row0 col1\" >-0.072</td>\n",
       "      <td id=\"T_efeb9_row0_col2\" class=\"data row0 col2\" >-0.026</td>\n",
       "      <td id=\"T_efeb9_row0_col3\" class=\"data row0 col3\" >-0.09</td>\n",
       "      <td id=\"T_efeb9_row0_col4\" class=\"data row0 col4\" >-0.017</td>\n",
       "      <td id=\"T_efeb9_row0_col5\" class=\"data row0 col5\" >0.14</td>\n",
       "      <td id=\"T_efeb9_row0_col6\" class=\"data row0 col6\" >0.027</td>\n",
       "    </tr>\n",
       "    <tr>\n",
       "      <th id=\"T_efeb9_level0_row1\" class=\"row_heading level0 row1\" >Price</th>\n",
       "      <td id=\"T_efeb9_row1_col0\" class=\"data row1 col0\" >-0.072</td>\n",
       "      <td id=\"T_efeb9_row1_col1\" class=\"data row1 col1\" >1.0</td>\n",
       "      <td id=\"T_efeb9_row1_col2\" class=\"data row1 col2\" >-0.12</td>\n",
       "      <td id=\"T_efeb9_row1_col3\" class=\"data row1 col3\" >-0.44</td>\n",
       "      <td id=\"T_efeb9_row1_col4\" class=\"data row1 col4\" >0.055</td>\n",
       "      <td id=\"T_efeb9_row1_col5\" class=\"data row1 col5\" >-0.061</td>\n",
       "      <td id=\"T_efeb9_row1_col6\" class=\"data row1 col6\" >0.47</td>\n",
       "    </tr>\n",
       "    <tr>\n",
       "      <th id=\"T_efeb9_level0_row2\" class=\"row_heading level0 row2\" >Body</th>\n",
       "      <td id=\"T_efeb9_row2_col0\" class=\"data row2 col0\" >-0.026</td>\n",
       "      <td id=\"T_efeb9_row2_col1\" class=\"data row2 col1\" >-0.12</td>\n",
       "      <td id=\"T_efeb9_row2_col2\" class=\"data row2 col2\" >1.0</td>\n",
       "      <td id=\"T_efeb9_row2_col3\" class=\"data row2 col3\" >-0.0037</td>\n",
       "      <td id=\"T_efeb9_row2_col4\" class=\"data row2 col4\" >-0.062</td>\n",
       "      <td id=\"T_efeb9_row2_col5\" class=\"data row2 col5\" >-0.16</td>\n",
       "      <td id=\"T_efeb9_row2_col6\" class=\"data row2 col6\" >0.035</td>\n",
       "    </tr>\n",
       "    <tr>\n",
       "      <th id=\"T_efeb9_level0_row3\" class=\"row_heading level0 row3\" >Mileage</th>\n",
       "      <td id=\"T_efeb9_row3_col0\" class=\"data row3 col0\" >-0.09</td>\n",
       "      <td id=\"T_efeb9_row3_col1\" class=\"data row3 col1\" >-0.44</td>\n",
       "      <td id=\"T_efeb9_row3_col2\" class=\"data row3 col2\" >-0.0037</td>\n",
       "      <td id=\"T_efeb9_row3_col3\" class=\"data row3 col3\" >1.0</td>\n",
       "      <td id=\"T_efeb9_row3_col4\" class=\"data row3 col4\" >0.025</td>\n",
       "      <td id=\"T_efeb9_row3_col5\" class=\"data row3 col5\" >-0.052</td>\n",
       "      <td id=\"T_efeb9_row3_col6\" class=\"data row3 col6\" >-0.63</td>\n",
       "    </tr>\n",
       "    <tr>\n",
       "      <th id=\"T_efeb9_level0_row4\" class=\"row_heading level0 row4\" >EngineV</th>\n",
       "      <td id=\"T_efeb9_row4_col0\" class=\"data row4 col0\" >-0.017</td>\n",
       "      <td id=\"T_efeb9_row4_col1\" class=\"data row4 col1\" >0.055</td>\n",
       "      <td id=\"T_efeb9_row4_col2\" class=\"data row4 col2\" >-0.062</td>\n",
       "      <td id=\"T_efeb9_row4_col3\" class=\"data row4 col3\" >0.025</td>\n",
       "      <td id=\"T_efeb9_row4_col4\" class=\"data row4 col4\" >1.0</td>\n",
       "      <td id=\"T_efeb9_row4_col5\" class=\"data row4 col5\" >0.058</td>\n",
       "      <td id=\"T_efeb9_row4_col6\" class=\"data row4 col6\" >-0.031</td>\n",
       "    </tr>\n",
       "    <tr>\n",
       "      <th id=\"T_efeb9_level0_row5\" class=\"row_heading level0 row5\" >EngineType</th>\n",
       "      <td id=\"T_efeb9_row5_col0\" class=\"data row5 col0\" >0.14</td>\n",
       "      <td id=\"T_efeb9_row5_col1\" class=\"data row5 col1\" >-0.061</td>\n",
       "      <td id=\"T_efeb9_row5_col2\" class=\"data row5 col2\" >-0.16</td>\n",
       "      <td id=\"T_efeb9_row5_col3\" class=\"data row5 col3\" >-0.052</td>\n",
       "      <td id=\"T_efeb9_row5_col4\" class=\"data row5 col4\" >0.058</td>\n",
       "      <td id=\"T_efeb9_row5_col5\" class=\"data row5 col5\" >1.0</td>\n",
       "      <td id=\"T_efeb9_row5_col6\" class=\"data row5 col6\" >-0.15</td>\n",
       "    </tr>\n",
       "    <tr>\n",
       "      <th id=\"T_efeb9_level0_row6\" class=\"row_heading level0 row6\" >Year</th>\n",
       "      <td id=\"T_efeb9_row6_col0\" class=\"data row6 col0\" >0.027</td>\n",
       "      <td id=\"T_efeb9_row6_col1\" class=\"data row6 col1\" >0.47</td>\n",
       "      <td id=\"T_efeb9_row6_col2\" class=\"data row6 col2\" >0.035</td>\n",
       "      <td id=\"T_efeb9_row6_col3\" class=\"data row6 col3\" >-0.63</td>\n",
       "      <td id=\"T_efeb9_row6_col4\" class=\"data row6 col4\" >-0.031</td>\n",
       "      <td id=\"T_efeb9_row6_col5\" class=\"data row6 col5\" >-0.15</td>\n",
       "      <td id=\"T_efeb9_row6_col6\" class=\"data row6 col6\" >1.0</td>\n",
       "    </tr>\n",
       "  </tbody>\n",
       "</table>\n"
      ],
      "text/plain": [
       "<pandas.io.formats.style.Styler at 0x1202c2ec460>"
      ]
     },
     "execution_count": 15,
     "metadata": {},
     "output_type": "execute_result"
    }
   ],
   "source": [
    "# make a correlation matrix\n",
    "cars2.corr(method='pearson').style.format(\"{:.2}\").background_gradient(cmap=plt.get_cmap('coolwarm'), axis=1)"
   ]
  },
  {
   "cell_type": "markdown",
   "id": "a809f750",
   "metadata": {},
   "source": [
    "From a glance, it looks as though the year of a used car is correlated with the price of a used car...which makes perfect sense. The year and the body are also mildly correlated, as are the engine type and the enginev. But these are not correlated very much, so really, we should focus more on the year vs the price."
   ]
  },
  {
   "cell_type": "markdown",
   "id": "df93aedd",
   "metadata": {},
   "source": [
    "#### Another way of doing some exploratory analyses is by looking at the descriptive stats."
   ]
  },
  {
   "cell_type": "code",
   "execution_count": 16,
   "id": "9e85509a",
   "metadata": {},
   "outputs": [
    {
     "data": {
      "text/html": [
       "<div>\n",
       "<style scoped>\n",
       "    .dataframe tbody tr th:only-of-type {\n",
       "        vertical-align: middle;\n",
       "    }\n",
       "\n",
       "    .dataframe tbody tr th {\n",
       "        vertical-align: top;\n",
       "    }\n",
       "\n",
       "    .dataframe thead th {\n",
       "        text-align: right;\n",
       "    }\n",
       "</style>\n",
       "<table border=\"1\" class=\"dataframe\">\n",
       "  <thead>\n",
       "    <tr style=\"text-align: right;\">\n",
       "      <th></th>\n",
       "      <th>Brand</th>\n",
       "      <th>Price</th>\n",
       "      <th>Body</th>\n",
       "      <th>Mileage</th>\n",
       "      <th>EngineV</th>\n",
       "      <th>EngineType</th>\n",
       "      <th>Year</th>\n",
       "    </tr>\n",
       "  </thead>\n",
       "  <tbody>\n",
       "    <tr>\n",
       "      <th>count</th>\n",
       "      <td>3878.000000</td>\n",
       "      <td>3878.000000</td>\n",
       "      <td>3878.000000</td>\n",
       "      <td>3878.000000</td>\n",
       "      <td>3878.000000</td>\n",
       "      <td>3878.000000</td>\n",
       "      <td>3878.000000</td>\n",
       "    </tr>\n",
       "    <tr>\n",
       "      <th>mean</th>\n",
       "      <td>2.338319</td>\n",
       "      <td>17417.471423</td>\n",
       "      <td>1.528881</td>\n",
       "      <td>169.772563</td>\n",
       "      <td>2.767581</td>\n",
       "      <td>0.750903</td>\n",
       "      <td>2006.020113</td>\n",
       "    </tr>\n",
       "    <tr>\n",
       "      <th>std</th>\n",
       "      <td>1.930981</td>\n",
       "      <td>21599.147081</td>\n",
       "      <td>1.618365</td>\n",
       "      <td>100.214150</td>\n",
       "      <td>5.023970</td>\n",
       "      <td>0.808673</td>\n",
       "      <td>6.556247</td>\n",
       "    </tr>\n",
       "    <tr>\n",
       "      <th>min</th>\n",
       "      <td>0.000000</td>\n",
       "      <td>600.000000</td>\n",
       "      <td>0.000000</td>\n",
       "      <td>1.000000</td>\n",
       "      <td>0.600000</td>\n",
       "      <td>0.000000</td>\n",
       "      <td>1969.000000</td>\n",
       "    </tr>\n",
       "    <tr>\n",
       "      <th>25%</th>\n",
       "      <td>1.000000</td>\n",
       "      <td>6900.000000</td>\n",
       "      <td>0.000000</td>\n",
       "      <td>98.250000</td>\n",
       "      <td>1.800000</td>\n",
       "      <td>0.000000</td>\n",
       "      <td>2002.000000</td>\n",
       "    </tr>\n",
       "    <tr>\n",
       "      <th>50%</th>\n",
       "      <td>2.000000</td>\n",
       "      <td>10999.000000</td>\n",
       "      <td>1.000000</td>\n",
       "      <td>161.000000</td>\n",
       "      <td>2.200000</td>\n",
       "      <td>1.000000</td>\n",
       "      <td>2007.000000</td>\n",
       "    </tr>\n",
       "    <tr>\n",
       "      <th>75%</th>\n",
       "      <td>4.000000</td>\n",
       "      <td>20300.000000</td>\n",
       "      <td>3.000000</td>\n",
       "      <td>232.000000</td>\n",
       "      <td>3.000000</td>\n",
       "      <td>1.000000</td>\n",
       "      <td>2011.000000</td>\n",
       "    </tr>\n",
       "    <tr>\n",
       "      <th>max</th>\n",
       "      <td>6.000000</td>\n",
       "      <td>300000.000000</td>\n",
       "      <td>5.000000</td>\n",
       "      <td>980.000000</td>\n",
       "      <td>99.990000</td>\n",
       "      <td>3.000000</td>\n",
       "      <td>2016.000000</td>\n",
       "    </tr>\n",
       "  </tbody>\n",
       "</table>\n",
       "</div>"
      ],
      "text/plain": [
       "             Brand          Price         Body      Mileage      EngineV  \\\n",
       "count  3878.000000    3878.000000  3878.000000  3878.000000  3878.000000   \n",
       "mean      2.338319   17417.471423     1.528881   169.772563     2.767581   \n",
       "std       1.930981   21599.147081     1.618365   100.214150     5.023970   \n",
       "min       0.000000     600.000000     0.000000     1.000000     0.600000   \n",
       "25%       1.000000    6900.000000     0.000000    98.250000     1.800000   \n",
       "50%       2.000000   10999.000000     1.000000   161.000000     2.200000   \n",
       "75%       4.000000   20300.000000     3.000000   232.000000     3.000000   \n",
       "max       6.000000  300000.000000     5.000000   980.000000    99.990000   \n",
       "\n",
       "        EngineType         Year  \n",
       "count  3878.000000  3878.000000  \n",
       "mean      0.750903  2006.020113  \n",
       "std       0.808673     6.556247  \n",
       "min       0.000000  1969.000000  \n",
       "25%       0.000000  2002.000000  \n",
       "50%       1.000000  2007.000000  \n",
       "75%       1.000000  2011.000000  \n",
       "max       3.000000  2016.000000  "
      ]
     },
     "execution_count": 16,
     "metadata": {},
     "output_type": "execute_result"
    }
   ],
   "source": [
    "cars2.describe()"
   ]
  },
  {
   "cell_type": "markdown",
   "id": "9acda20b",
   "metadata": {},
   "source": [
    "Looking at the data, we see we have 3878 total rows of data (after our wrangling and cleaning up). Mean price of a used car is 17,417 dollars-not a bad price since most of these cars are luxury brands. Mean mileage is 169.8 miles. Impressive for a used car. This seems to have come from previous owners who took good care of their vehicles. And the mean year is a 2006. So, in 2022, some of these cars are an average of 16 years old. These are some fantastic used cars!\n",
    "\n",
    "On further glance, the minimum and maximum price of a car is 600 and 300000. Quite a range! One, or both of these prices, may be an outlier. We'll have to do some more work to see. The minimum mileage is only 1-which means this car may not actually be used, and might need to be dropped from the data. The maximum mileage is 980 miles, which further confirms that our cars in this dataset are well taken care of. And interestingly, the newest car is from 2016, only six years ago, while the oldest car is from 1969! We have a classic car in the mix. Would be interesting to see what the price of that car is."
   ]
  },
  {
   "cell_type": "markdown",
   "id": "757e598f",
   "metadata": {},
   "source": [
    "### Why don't we play around with some histographs and plots?"
   ]
  },
  {
   "cell_type": "code",
   "execution_count": 17,
   "id": "bca2cb3c",
   "metadata": {},
   "outputs": [
    {
     "data": {
      "text/plain": [
       "<AxesSubplot:xlabel='Price', ylabel='Count'>"
      ]
     },
     "execution_count": 17,
     "metadata": {},
     "output_type": "execute_result"
    },
    {
     "data": {
      "image/png": "[encoded data removed]",
      "text/plain": [
       "<Figure size 432x288 with 1 Axes>"
      ]
     },
     "metadata": {},
     "output_type": "display_data"
    }
   ],
   "source": [
    "# look at a histograph for each continuous variable\n",
    "sns.histplot(cars2['Price'])"
   ]
  },
  {
   "cell_type": "markdown",
   "id": "d5ec6387",
   "metadata": {},
   "source": [
    "Wow, this is pretty positively skewed. We'll need to do a transformation on this."
   ]
  },
  {
   "cell_type": "code",
   "execution_count": 18,
   "id": "e41febd6",
   "metadata": {},
   "outputs": [
    {
     "data": {
      "text/plain": [
       "<AxesSubplot:xlabel='Mileage', ylabel='Count'>"
      ]
     },
     "execution_count": 18,
     "metadata": {},
     "output_type": "execute_result"
    },
    {
     "data": {
      "image/png": "[encoded data removed]",
      "text/plain": [
       "<Figure size 432x288 with 1 Axes>"
      ]
     },
     "metadata": {},
     "output_type": "display_data"
    }
   ],
   "source": [
    "sns.histplot(cars2['Mileage'])"
   ]
  },
  {
   "cell_type": "markdown",
   "id": "fe7cb005",
   "metadata": {},
   "source": [
    "This one is also positively skewed but not as bad as the price."
   ]
  },
  {
   "cell_type": "markdown",
   "id": "3c07a61f",
   "metadata": {},
   "source": [
    "#### Next we can do the categorical variables by using box plots."
   ]
  },
  {
   "cell_type": "code",
   "execution_count": 20,
   "id": "906d8659",
   "metadata": {},
   "outputs": [
    {
     "data": {
      "text/plain": [
       "<AxesSubplot:xlabel='Brand'>"
      ]
     },
     "execution_count": 20,
     "metadata": {},
     "output_type": "execute_result"
    },
    {
     "data": {
      "image/png": "[encoded data removed]",
      "text/plain": [
       "<Figure size 432x288 with 1 Axes>"
      ]
     },
     "metadata": {},
     "output_type": "display_data"
    }
   ],
   "source": [
    "## look at a box plot for the categorical variables\n",
    "sns.boxplot(x=cars2[\"Brand\"])"
   ]
  },
  {
   "cell_type": "code",
   "execution_count": 21,
   "id": "2779633e",
   "metadata": {},
   "outputs": [
    {
     "data": {
      "text/plain": [
       "<AxesSubplot:xlabel='Body'>"
      ]
     },
     "execution_count": 21,
     "metadata": {},
     "output_type": "execute_result"
    },
    {
     "data": {
      "image/png": "[encoded data removed]",
      "text/plain": [
       "<Figure size 432x288 with 1 Axes>"
      ]
     },
     "metadata": {},
     "output_type": "display_data"
    }
   ],
   "source": [
    "sns.boxplot(x=cars2[\"Body\"])"
   ]
  },
  {
   "cell_type": "code",
   "execution_count": 22,
   "id": "24bf14bb",
   "metadata": {},
   "outputs": [
    {
     "data": {
      "text/plain": [
       "<AxesSubplot:xlabel='EngineV'>"
      ]
     },
     "execution_count": 22,
     "metadata": {},
     "output_type": "execute_result"
    },
    {
     "data": {
      "image/png": "[encoded data removed]",
      "text/plain": [
       "<Figure size 432x288 with 1 Axes>"
      ]
     },
     "metadata": {},
     "output_type": "display_data"
    }
   ],
   "source": [
    "sns.boxplot(x=cars2[\"EngineV\"])"
   ]
  },
  {
   "cell_type": "code",
   "execution_count": 23,
   "id": "0767bdc2",
   "metadata": {},
   "outputs": [
    {
     "data": {
      "text/plain": [
       "<AxesSubplot:xlabel='EngineType'>"
      ]
     },
     "execution_count": 23,
     "metadata": {},
     "output_type": "execute_result"
    },
    {
     "data": {
      "image/png": "[encoded data removed]",
      "text/plain": [
       "<Figure size 432x288 with 1 Axes>"
      ]
     },
     "metadata": {},
     "output_type": "display_data"
    }
   ],
   "source": [
    "sns.boxplot(x=cars2[\"EngineType\"])"
   ]
  },
  {
   "cell_type": "code",
   "execution_count": 24,
   "id": "e7460943",
   "metadata": {},
   "outputs": [
    {
     "data": {
      "text/plain": [
       "<AxesSubplot:xlabel='Year'>"
      ]
     },
     "execution_count": 24,
     "metadata": {},
     "output_type": "execute_result"
    },
    {
     "data": {
      "image/png": "[encoded data removed]",
      "text/plain": [
       "<Figure size 432x288 with 1 Axes>"
      ]
     },
     "metadata": {},
     "output_type": "display_data"
    }
   ],
   "source": [
    "sns.boxplot(x=cars2[\"Year\"])"
   ]
  },
  {
   "cell_type": "markdown",
   "id": "e4efe97b",
   "metadata": {},
   "source": [
    "Some observations by looking at these boxplots: The output shows that the median amount of car brands are BMWs. Also, 50% of the car brands are either BMWs and Toyotas. Median body types are crossovers, while half of the cars are a mix of sedans and crossovers. There seems to be a ton of outliers in the enginev. Almost all the engine types fall somewhere between Diesel and Petrol; there is definitely an outlier there. And in the Year variable, most cars are from 2004 to about 2011, with some outliers in the years between 1969 and 1989."
   ]
  },
  {
   "cell_type": "markdown",
   "id": "542dfe8c",
   "metadata": {},
   "source": [
    "#### Finally, in our exploratory analyses, we'll look at some of the data in Tableau. Then, we can wrap up this part and continue on to the actual analysis."
   ]
  },
  {
   "cell_type": "markdown",
   "id": "f4a3555e",
   "metadata": {},
   "source": [
    "## Multiple Linear Regression"
   ]
  },
  {
   "cell_type": "markdown",
   "id": "a2af3895",
   "metadata": {},
   "source": [
    "In order to start our analysis, we need to test for Linearity and Normality."
   ]
  },
  {
   "cell_type": "code",
   "execution_count": 25,
   "id": "2485315c",
   "metadata": {},
   "outputs": [
    {
     "data": {
      "text/plain": [
       "<seaborn.axisgrid.PairGrid at 0x1202d064b20>"
      ]
     },
     "execution_count": 25,
     "metadata": {},
     "output_type": "execute_result"
    },
    {
     "data": {
      "image/png": "[encoded data removed]",
      "text/plain": [
       "<Figure size 1260x1260 with 56 Axes>"
      ]
     },
     "metadata": {},
     "output_type": "display_data"
    }
   ],
   "source": [
    "# Look for Normality\n",
    "sns.pairplot(cars2)"
   ]
  },
  {
   "cell_type": "markdown",
   "id": "07f5ddcf",
   "metadata": {},
   "source": [
    "Seems to be quite a lot of skewed data here, so let's do some transforming."
   ]
  },
  {
   "cell_type": "code",
   "execution_count": 29,
   "id": "c738069d",
   "metadata": {},
   "outputs": [
    {
     "name": "stderr",
     "output_type": "stream",
     "text": [
      "C:\\Users\\melan\\AppData\\Local\\Temp/ipykernel_20168/1664876835.py:3: SettingWithCopyWarning: \n",
      "A value is trying to be set on a copy of a slice from a DataFrame.\n",
      "Try using .loc[row_indexer,col_indexer] = value instead\n",
      "\n",
      "See the caveats in the documentation: https://pandas.pydata.org/pandas-docs/stable/user_guide/indexing.html#returning-a-view-versus-a-copy\n",
      "  cars2['PriceSQRT'] = np.sqrt(cars2['Price'])\n"
     ]
    },
    {
     "data": {
      "text/html": [
       "<div>\n",
       "<style scoped>\n",
       "    .dataframe tbody tr th:only-of-type {\n",
       "        vertical-align: middle;\n",
       "    }\n",
       "\n",
       "    .dataframe tbody tr th {\n",
       "        vertical-align: top;\n",
       "    }\n",
       "\n",
       "    .dataframe thead th {\n",
       "        text-align: right;\n",
       "    }\n",
       "</style>\n",
       "<table border=\"1\" class=\"dataframe\">\n",
       "  <thead>\n",
       "    <tr style=\"text-align: right;\">\n",
       "      <th></th>\n",
       "      <th>Brand</th>\n",
       "      <th>Price</th>\n",
       "      <th>Body</th>\n",
       "      <th>Mileage</th>\n",
       "      <th>EngineV</th>\n",
       "      <th>EngineType</th>\n",
       "      <th>Year</th>\n",
       "      <th>PriceSQRT</th>\n",
       "    </tr>\n",
       "  </thead>\n",
       "  <tbody>\n",
       "    <tr>\n",
       "      <th>0</th>\n",
       "      <td>2</td>\n",
       "      <td>4200.0</td>\n",
       "      <td>0</td>\n",
       "      <td>277</td>\n",
       "      <td>2.0</td>\n",
       "      <td>1</td>\n",
       "      <td>1991</td>\n",
       "      <td>64.807407</td>\n",
       "    </tr>\n",
       "    <tr>\n",
       "      <th>1</th>\n",
       "      <td>1</td>\n",
       "      <td>7900.0</td>\n",
       "      <td>2</td>\n",
       "      <td>427</td>\n",
       "      <td>2.9</td>\n",
       "      <td>0</td>\n",
       "      <td>1999</td>\n",
       "      <td>88.881944</td>\n",
       "    </tr>\n",
       "    <tr>\n",
       "      <th>2</th>\n",
       "      <td>1</td>\n",
       "      <td>13300.0</td>\n",
       "      <td>0</td>\n",
       "      <td>358</td>\n",
       "      <td>5.0</td>\n",
       "      <td>2</td>\n",
       "      <td>2003</td>\n",
       "      <td>115.325626</td>\n",
       "    </tr>\n",
       "    <tr>\n",
       "      <th>3</th>\n",
       "      <td>5</td>\n",
       "      <td>23000.0</td>\n",
       "      <td>1</td>\n",
       "      <td>240</td>\n",
       "      <td>4.2</td>\n",
       "      <td>1</td>\n",
       "      <td>2007</td>\n",
       "      <td>151.657509</td>\n",
       "    </tr>\n",
       "    <tr>\n",
       "      <th>4</th>\n",
       "      <td>3</td>\n",
       "      <td>18300.0</td>\n",
       "      <td>1</td>\n",
       "      <td>120</td>\n",
       "      <td>2.0</td>\n",
       "      <td>1</td>\n",
       "      <td>2011</td>\n",
       "      <td>135.277493</td>\n",
       "    </tr>\n",
       "  </tbody>\n",
       "</table>\n",
       "</div>"
      ],
      "text/plain": [
       "   Brand    Price  Body  Mileage  EngineV  EngineType  Year   PriceSQRT\n",
       "0      2   4200.0     0      277      2.0           1  1991   64.807407\n",
       "1      1   7900.0     2      427      2.9           0  1999   88.881944\n",
       "2      1  13300.0     0      358      5.0           2  2003  115.325626\n",
       "3      5  23000.0     1      240      4.2           1  2007  151.657509\n",
       "4      3  18300.0     1      120      2.0           1  2011  135.277493"
      ]
     },
     "execution_count": 29,
     "metadata": {},
     "output_type": "execute_result"
    }
   ],
   "source": [
    "# Transform the positively skewed data\n",
    "# Price\n",
    "cars2['PriceSQRT'] = np.sqrt(cars2['Price'])\n",
    "cars2.head()"
   ]
  },
  {
   "cell_type": "code",
   "execution_count": 31,
   "id": "d4667b8a",
   "metadata": {},
   "outputs": [
    {
     "data": {
      "text/plain": [
       "<AxesSubplot:>"
      ]
     },
     "execution_count": 31,
     "metadata": {},
     "output_type": "execute_result"
    },
    {
     "data": {
      "image/png": "[encoded data removed]",
      "text/plain": [
       "<Figure size 432x288 with 1 Axes>"
      ]
     },
     "metadata": {},
     "output_type": "display_data"
    }
   ],
   "source": [
    "cars2.PriceSQRT.hist()"
   ]
  },
  {
   "cell_type": "markdown",
   "id": "b40082f8",
   "metadata": {},
   "source": [
    "That's a little better. Let's try another transformation to see if we can make it more normal."
   ]
  },
  {
   "cell_type": "code",
   "execution_count": 32,
   "id": "b5563f30",
   "metadata": {},
   "outputs": [
    {
     "name": "stderr",
     "output_type": "stream",
     "text": [
      "C:\\Users\\melan\\AppData\\Local\\Temp/ipykernel_20168/3835131513.py:1: SettingWithCopyWarning: \n",
      "A value is trying to be set on a copy of a slice from a DataFrame.\n",
      "Try using .loc[row_indexer,col_indexer] = value instead\n",
      "\n",
      "See the caveats in the documentation: https://pandas.pydata.org/pandas-docs/stable/user_guide/indexing.html#returning-a-view-versus-a-copy\n",
      "  cars2['PriceLOG'] = np.log(cars2['Price'])\n"
     ]
    },
    {
     "data": {
      "text/html": [
       "<div>\n",
       "<style scoped>\n",
       "    .dataframe tbody tr th:only-of-type {\n",
       "        vertical-align: middle;\n",
       "    }\n",
       "\n",
       "    .dataframe tbody tr th {\n",
       "        vertical-align: top;\n",
       "    }\n",
       "\n",
       "    .dataframe thead th {\n",
       "        text-align: right;\n",
       "    }\n",
       "</style>\n",
       "<table border=\"1\" class=\"dataframe\">\n",
       "  <thead>\n",
       "    <tr style=\"text-align: right;\">\n",
       "      <th></th>\n",
       "      <th>Brand</th>\n",
       "      <th>Price</th>\n",
       "      <th>Body</th>\n",
       "      <th>Mileage</th>\n",
       "      <th>EngineV</th>\n",
       "      <th>EngineType</th>\n",
       "      <th>Year</th>\n",
       "      <th>PriceSQRT</th>\n",
       "      <th>PriceLOG</th>\n",
       "    </tr>\n",
       "  </thead>\n",
       "  <tbody>\n",
       "    <tr>\n",
       "      <th>0</th>\n",
       "      <td>2</td>\n",
       "      <td>4200.0</td>\n",
       "      <td>0</td>\n",
       "      <td>277</td>\n",
       "      <td>2.0</td>\n",
       "      <td>1</td>\n",
       "      <td>1991</td>\n",
       "      <td>64.807407</td>\n",
       "      <td>8.342840</td>\n",
       "    </tr>\n",
       "    <tr>\n",
       "      <th>1</th>\n",
       "      <td>1</td>\n",
       "      <td>7900.0</td>\n",
       "      <td>2</td>\n",
       "      <td>427</td>\n",
       "      <td>2.9</td>\n",
       "      <td>0</td>\n",
       "      <td>1999</td>\n",
       "      <td>88.881944</td>\n",
       "      <td>8.974618</td>\n",
       "    </tr>\n",
       "    <tr>\n",
       "      <th>2</th>\n",
       "      <td>1</td>\n",
       "      <td>13300.0</td>\n",
       "      <td>0</td>\n",
       "      <td>358</td>\n",
       "      <td>5.0</td>\n",
       "      <td>2</td>\n",
       "      <td>2003</td>\n",
       "      <td>115.325626</td>\n",
       "      <td>9.495519</td>\n",
       "    </tr>\n",
       "    <tr>\n",
       "      <th>3</th>\n",
       "      <td>5</td>\n",
       "      <td>23000.0</td>\n",
       "      <td>1</td>\n",
       "      <td>240</td>\n",
       "      <td>4.2</td>\n",
       "      <td>1</td>\n",
       "      <td>2007</td>\n",
       "      <td>151.657509</td>\n",
       "      <td>10.043249</td>\n",
       "    </tr>\n",
       "    <tr>\n",
       "      <th>4</th>\n",
       "      <td>3</td>\n",
       "      <td>18300.0</td>\n",
       "      <td>1</td>\n",
       "      <td>120</td>\n",
       "      <td>2.0</td>\n",
       "      <td>1</td>\n",
       "      <td>2011</td>\n",
       "      <td>135.277493</td>\n",
       "      <td>9.814656</td>\n",
       "    </tr>\n",
       "  </tbody>\n",
       "</table>\n",
       "</div>"
      ],
      "text/plain": [
       "   Brand    Price  Body  Mileage  EngineV  EngineType  Year   PriceSQRT  \\\n",
       "0      2   4200.0     0      277      2.0           1  1991   64.807407   \n",
       "1      1   7900.0     2      427      2.9           0  1999   88.881944   \n",
       "2      1  13300.0     0      358      5.0           2  2003  115.325626   \n",
       "3      5  23000.0     1      240      4.2           1  2007  151.657509   \n",
       "4      3  18300.0     1      120      2.0           1  2011  135.277493   \n",
       "\n",
       "    PriceLOG  \n",
       "0   8.342840  \n",
       "1   8.974618  \n",
       "2   9.495519  \n",
       "3  10.043249  \n",
       "4   9.814656  "
      ]
     },
     "execution_count": 32,
     "metadata": {},
     "output_type": "execute_result"
    }
   ],
   "source": [
    "cars2['PriceLOG'] = np.log(cars2['Price'])\n",
    "cars2.head()"
   ]
  },
  {
   "cell_type": "code",
   "execution_count": 33,
   "id": "dcae50e3",
   "metadata": {},
   "outputs": [
    {
     "data": {
      "text/plain": [
       "<AxesSubplot:>"
      ]
     },
     "execution_count": 33,
     "metadata": {},
     "output_type": "execute_result"
    },
    {
     "data": {
      "image/png": "[encoded data removed]",
      "text/plain": [
       "<Figure size 432x288 with 1 Axes>"
      ]
     },
     "metadata": {},
     "output_type": "display_data"
    }
   ],
   "source": [
    "cars2.PriceLOG.hist()"
   ]
  },
  {
   "cell_type": "markdown",
   "id": "754b0a0e",
   "metadata": {},
   "source": [
    "Oh, yeah, way better! Moving on."
   ]
  },
  {
   "cell_type": "code",
   "execution_count": 34,
   "id": "7ea42013",
   "metadata": {},
   "outputs": [
    {
     "name": "stderr",
     "output_type": "stream",
     "text": [
      "C:\\Users\\melan\\AppData\\Local\\Temp/ipykernel_20168/4276422052.py:3: SettingWithCopyWarning: \n",
      "A value is trying to be set on a copy of a slice from a DataFrame.\n",
      "Try using .loc[row_indexer,col_indexer] = value instead\n",
      "\n",
      "See the caveats in the documentation: https://pandas.pydata.org/pandas-docs/stable/user_guide/indexing.html#returning-a-view-versus-a-copy\n",
      "  cars2['MileageSQRT'] = np.sqrt(cars2['Mileage'])\n"
     ]
    },
    {
     "data": {
      "text/html": [
       "<div>\n",
       "<style scoped>\n",
       "    .dataframe tbody tr th:only-of-type {\n",
       "        vertical-align: middle;\n",
       "    }\n",
       "\n",
       "    .dataframe tbody tr th {\n",
       "        vertical-align: top;\n",
       "    }\n",
       "\n",
       "    .dataframe thead th {\n",
       "        text-align: right;\n",
       "    }\n",
       "</style>\n",
       "<table border=\"1\" class=\"dataframe\">\n",
       "  <thead>\n",
       "    <tr style=\"text-align: right;\">\n",
       "      <th></th>\n",
       "      <th>Brand</th>\n",
       "      <th>Price</th>\n",
       "      <th>Body</th>\n",
       "      <th>Mileage</th>\n",
       "      <th>EngineV</th>\n",
       "      <th>EngineType</th>\n",
       "      <th>Year</th>\n",
       "      <th>PriceSQRT</th>\n",
       "      <th>PriceLOG</th>\n",
       "      <th>MileageSQRT</th>\n",
       "    </tr>\n",
       "  </thead>\n",
       "  <tbody>\n",
       "    <tr>\n",
       "      <th>0</th>\n",
       "      <td>2</td>\n",
       "      <td>4200.0</td>\n",
       "      <td>0</td>\n",
       "      <td>277</td>\n",
       "      <td>2.0</td>\n",
       "      <td>1</td>\n",
       "      <td>1991</td>\n",
       "      <td>64.807407</td>\n",
       "      <td>8.342840</td>\n",
       "      <td>16.643317</td>\n",
       "    </tr>\n",
       "    <tr>\n",
       "      <th>1</th>\n",
       "      <td>1</td>\n",
       "      <td>7900.0</td>\n",
       "      <td>2</td>\n",
       "      <td>427</td>\n",
       "      <td>2.9</td>\n",
       "      <td>0</td>\n",
       "      <td>1999</td>\n",
       "      <td>88.881944</td>\n",
       "      <td>8.974618</td>\n",
       "      <td>20.663978</td>\n",
       "    </tr>\n",
       "    <tr>\n",
       "      <th>2</th>\n",
       "      <td>1</td>\n",
       "      <td>13300.0</td>\n",
       "      <td>0</td>\n",
       "      <td>358</td>\n",
       "      <td>5.0</td>\n",
       "      <td>2</td>\n",
       "      <td>2003</td>\n",
       "      <td>115.325626</td>\n",
       "      <td>9.495519</td>\n",
       "      <td>18.920888</td>\n",
       "    </tr>\n",
       "    <tr>\n",
       "      <th>3</th>\n",
       "      <td>5</td>\n",
       "      <td>23000.0</td>\n",
       "      <td>1</td>\n",
       "      <td>240</td>\n",
       "      <td>4.2</td>\n",
       "      <td>1</td>\n",
       "      <td>2007</td>\n",
       "      <td>151.657509</td>\n",
       "      <td>10.043249</td>\n",
       "      <td>15.491933</td>\n",
       "    </tr>\n",
       "    <tr>\n",
       "      <th>4</th>\n",
       "      <td>3</td>\n",
       "      <td>18300.0</td>\n",
       "      <td>1</td>\n",
       "      <td>120</td>\n",
       "      <td>2.0</td>\n",
       "      <td>1</td>\n",
       "      <td>2011</td>\n",
       "      <td>135.277493</td>\n",
       "      <td>9.814656</td>\n",
       "      <td>10.954451</td>\n",
       "    </tr>\n",
       "  </tbody>\n",
       "</table>\n",
       "</div>"
      ],
      "text/plain": [
       "   Brand    Price  Body  Mileage  EngineV  EngineType  Year   PriceSQRT  \\\n",
       "0      2   4200.0     0      277      2.0           1  1991   64.807407   \n",
       "1      1   7900.0     2      427      2.9           0  1999   88.881944   \n",
       "2      1  13300.0     0      358      5.0           2  2003  115.325626   \n",
       "3      5  23000.0     1      240      4.2           1  2007  151.657509   \n",
       "4      3  18300.0     1      120      2.0           1  2011  135.277493   \n",
       "\n",
       "    PriceLOG  MileageSQRT  \n",
       "0   8.342840    16.643317  \n",
       "1   8.974618    20.663978  \n",
       "2   9.495519    18.920888  \n",
       "3  10.043249    15.491933  \n",
       "4   9.814656    10.954451  "
      ]
     },
     "execution_count": 34,
     "metadata": {},
     "output_type": "execute_result"
    }
   ],
   "source": [
    "# Transform the positively skewed data\n",
    "# Mileage\n",
    "cars2['MileageSQRT'] = np.sqrt(cars2['Mileage'])\n",
    "cars2.head()"
   ]
  },
  {
   "cell_type": "code",
   "execution_count": 35,
   "id": "c4a8e44b",
   "metadata": {},
   "outputs": [
    {
     "data": {
      "text/plain": [
       "<AxesSubplot:>"
      ]
     },
     "execution_count": 35,
     "metadata": {},
     "output_type": "execute_result"
    },
    {
     "data": {
      "image/png": "[encoded data removed]",
      "text/plain": [
       "<Figure size 432x288 with 1 Axes>"
      ]
     },
     "metadata": {},
     "output_type": "display_data"
    }
   ],
   "source": [
    "cars2.MileageSQRT.hist()"
   ]
  },
  {
   "cell_type": "markdown",
   "id": "854def81",
   "metadata": {},
   "source": [
    "That's not too bad. Let's fix our outliers. First, we'll pull up the data using box plots."
   ]
  },
  {
   "cell_type": "markdown",
   "id": "a6df99de",
   "metadata": {},
   "source": [
    "### Identifying and Capping Outliers"
   ]
  },
  {
   "cell_type": "code",
   "execution_count": 158,
   "id": "25980c89",
   "metadata": {
    "scrolled": false
   },
   "outputs": [
    {
     "data": {
      "text/plain": [
       "<AxesSubplot:>"
      ]
     },
     "execution_count": 158,
     "metadata": {},
     "output_type": "execute_result"
    },
    {
     "data": {
      "image/png": "[encoded data removed]",
      "text/plain": [
       "<Figure size 432x288 with 1 Axes>"
      ]
     },
     "metadata": {},
     "output_type": "display_data"
    }
   ],
   "source": [
    "# dependent variable\n",
    "cars2.boxplot('PriceLOG')"
   ]
  },
  {
   "cell_type": "code",
   "execution_count": 159,
   "id": "28c7fef9",
   "metadata": {
    "scrolled": true
   },
   "outputs": [
    {
     "name": "stdout",
     "output_type": "stream",
     "text": [
      "8.83927669058535\n",
      "9.918376165029878\n"
     ]
    }
   ],
   "source": [
    "# Finding the 1st and 3rd quartiles\n",
    "percentile25 = cars2['PriceLOG'].quantile(0.25)\n",
    "percentile75 = cars2['PriceLOG'].quantile(0.75)\n",
    "print(percentile25)\n",
    "print(percentile75)"
   ]
  },
  {
   "cell_type": "code",
   "execution_count": 160,
   "id": "5bbbd638",
   "metadata": {},
   "outputs": [
    {
     "name": "stdout",
     "output_type": "stream",
     "text": [
      "1.0790994744445275\n"
     ]
    }
   ],
   "source": [
    "# getting the iqr\n",
    "iqr = percentile75 - percentile25\n",
    "print(iqr)"
   ]
  },
  {
   "cell_type": "code",
   "execution_count": 161,
   "id": "0e8d0c93",
   "metadata": {},
   "outputs": [
    {
     "name": "stdout",
     "output_type": "stream",
     "text": [
      "11.537025376696668\n",
      "7.220627478918559\n"
     ]
    }
   ],
   "source": [
    "# finding the upper and lower limits\n",
    "upper_limit = percentile75 + 1.5 * iqr\n",
    "lower_limit = percentile25 - 1.5 * iqr\n",
    "print(upper_limit)\n",
    "print(lower_limit)"
   ]
  },
  {
   "cell_type": "code",
   "execution_count": 162,
   "id": "10fefd33",
   "metadata": {
    "scrolled": true
   },
   "outputs": [
    {
     "data": {
      "text/html": [
       "<div>\n",
       "<style scoped>\n",
       "    .dataframe tbody tr th:only-of-type {\n",
       "        vertical-align: middle;\n",
       "    }\n",
       "\n",
       "    .dataframe tbody tr th {\n",
       "        vertical-align: top;\n",
       "    }\n",
       "\n",
       "    .dataframe thead th {\n",
       "        text-align: right;\n",
       "    }\n",
       "</style>\n",
       "<table border=\"1\" class=\"dataframe\">\n",
       "  <thead>\n",
       "    <tr style=\"text-align: right;\">\n",
       "      <th></th>\n",
       "      <th>Brand</th>\n",
       "      <th>Price</th>\n",
       "      <th>Body</th>\n",
       "      <th>Mileage</th>\n",
       "      <th>EngineV</th>\n",
       "      <th>EngineType</th>\n",
       "      <th>Year</th>\n",
       "      <th>PriceSQRT</th>\n",
       "      <th>PriceLOG</th>\n",
       "      <th>MileageSQRT</th>\n",
       "    </tr>\n",
       "  </thead>\n",
       "  <tbody>\n",
       "    <tr>\n",
       "      <th>128</th>\n",
       "      <td>5</td>\n",
       "      <td>600.00</td>\n",
       "      <td>0</td>\n",
       "      <td>112</td>\n",
       "      <td>1.6</td>\n",
       "      <td>1</td>\n",
       "      <td>1980</td>\n",
       "      <td>24.494897</td>\n",
       "      <td>6.396930</td>\n",
       "      <td>10.583005</td>\n",
       "    </tr>\n",
       "    <tr>\n",
       "      <th>267</th>\n",
       "      <td>3</td>\n",
       "      <td>600.00</td>\n",
       "      <td>0</td>\n",
       "      <td>10</td>\n",
       "      <td>1.5</td>\n",
       "      <td>1</td>\n",
       "      <td>1979</td>\n",
       "      <td>24.494897</td>\n",
       "      <td>6.396930</td>\n",
       "      <td>3.162278</td>\n",
       "    </tr>\n",
       "    <tr>\n",
       "      <th>462</th>\n",
       "      <td>0</td>\n",
       "      <td>1200.00</td>\n",
       "      <td>3</td>\n",
       "      <td>300</td>\n",
       "      <td>1.4</td>\n",
       "      <td>2</td>\n",
       "      <td>2000</td>\n",
       "      <td>34.641016</td>\n",
       "      <td>7.090077</td>\n",
       "      <td>17.320508</td>\n",
       "    </tr>\n",
       "    <tr>\n",
       "      <th>731</th>\n",
       "      <td>5</td>\n",
       "      <td>1350.00</td>\n",
       "      <td>4</td>\n",
       "      <td>400</td>\n",
       "      <td>1.9</td>\n",
       "      <td>0</td>\n",
       "      <td>1994</td>\n",
       "      <td>36.742346</td>\n",
       "      <td>7.207860</td>\n",
       "      <td>20.000000</td>\n",
       "    </tr>\n",
       "    <tr>\n",
       "      <th>877</th>\n",
       "      <td>0</td>\n",
       "      <td>1199.00</td>\n",
       "      <td>5</td>\n",
       "      <td>250</td>\n",
       "      <td>1.9</td>\n",
       "      <td>0</td>\n",
       "      <td>1994</td>\n",
       "      <td>34.626579</td>\n",
       "      <td>7.089243</td>\n",
       "      <td>15.811388</td>\n",
       "    </tr>\n",
       "    <tr>\n",
       "      <th>1307</th>\n",
       "      <td>1</td>\n",
       "      <td>1350.00</td>\n",
       "      <td>0</td>\n",
       "      <td>360</td>\n",
       "      <td>2.5</td>\n",
       "      <td>0</td>\n",
       "      <td>1989</td>\n",
       "      <td>36.742346</td>\n",
       "      <td>7.207860</td>\n",
       "      <td>18.973666</td>\n",
       "    </tr>\n",
       "    <tr>\n",
       "      <th>1475</th>\n",
       "      <td>4</td>\n",
       "      <td>999.00</td>\n",
       "      <td>0</td>\n",
       "      <td>430</td>\n",
       "      <td>2.0</td>\n",
       "      <td>2</td>\n",
       "      <td>1988</td>\n",
       "      <td>31.606961</td>\n",
       "      <td>6.906755</td>\n",
       "      <td>20.736441</td>\n",
       "    </tr>\n",
       "    <tr>\n",
       "      <th>1494</th>\n",
       "      <td>4</td>\n",
       "      <td>1350.00</td>\n",
       "      <td>0</td>\n",
       "      <td>100</td>\n",
       "      <td>1.7</td>\n",
       "      <td>1</td>\n",
       "      <td>1986</td>\n",
       "      <td>36.742346</td>\n",
       "      <td>7.207860</td>\n",
       "      <td>10.000000</td>\n",
       "    </tr>\n",
       "    <tr>\n",
       "      <th>1519</th>\n",
       "      <td>4</td>\n",
       "      <td>1150.00</td>\n",
       "      <td>5</td>\n",
       "      <td>250</td>\n",
       "      <td>1.4</td>\n",
       "      <td>1</td>\n",
       "      <td>1987</td>\n",
       "      <td>33.911650</td>\n",
       "      <td>7.047517</td>\n",
       "      <td>15.811388</td>\n",
       "    </tr>\n",
       "    <tr>\n",
       "      <th>1563</th>\n",
       "      <td>4</td>\n",
       "      <td>1200.00</td>\n",
       "      <td>0</td>\n",
       "      <td>240</td>\n",
       "      <td>1.7</td>\n",
       "      <td>2</td>\n",
       "      <td>1988</td>\n",
       "      <td>34.641016</td>\n",
       "      <td>7.090077</td>\n",
       "      <td>15.491933</td>\n",
       "    </tr>\n",
       "    <tr>\n",
       "      <th>1728</th>\n",
       "      <td>4</td>\n",
       "      <td>1300.00</td>\n",
       "      <td>2</td>\n",
       "      <td>265</td>\n",
       "      <td>1.9</td>\n",
       "      <td>0</td>\n",
       "      <td>1999</td>\n",
       "      <td>36.055513</td>\n",
       "      <td>7.170120</td>\n",
       "      <td>16.278821</td>\n",
       "    </tr>\n",
       "    <tr>\n",
       "      <th>1874</th>\n",
       "      <td>6</td>\n",
       "      <td>1180.00</td>\n",
       "      <td>0</td>\n",
       "      <td>280</td>\n",
       "      <td>1.8</td>\n",
       "      <td>0</td>\n",
       "      <td>1986</td>\n",
       "      <td>34.351128</td>\n",
       "      <td>7.073270</td>\n",
       "      <td>16.733201</td>\n",
       "    </tr>\n",
       "    <tr>\n",
       "      <th>2114</th>\n",
       "      <td>1</td>\n",
       "      <td>1350.00</td>\n",
       "      <td>4</td>\n",
       "      <td>240</td>\n",
       "      <td>2.5</td>\n",
       "      <td>0</td>\n",
       "      <td>1992</td>\n",
       "      <td>36.742346</td>\n",
       "      <td>7.207860</td>\n",
       "      <td>15.491933</td>\n",
       "    </tr>\n",
       "    <tr>\n",
       "      <th>2369</th>\n",
       "      <td>1</td>\n",
       "      <td>1200.00</td>\n",
       "      <td>0</td>\n",
       "      <td>240</td>\n",
       "      <td>2.4</td>\n",
       "      <td>1</td>\n",
       "      <td>1999</td>\n",
       "      <td>34.641016</td>\n",
       "      <td>7.090077</td>\n",
       "      <td>15.491933</td>\n",
       "    </tr>\n",
       "    <tr>\n",
       "      <th>3338</th>\n",
       "      <td>4</td>\n",
       "      <td>800.00</td>\n",
       "      <td>2</td>\n",
       "      <td>200</td>\n",
       "      <td>1.9</td>\n",
       "      <td>0</td>\n",
       "      <td>1997</td>\n",
       "      <td>28.284271</td>\n",
       "      <td>6.684612</td>\n",
       "      <td>14.142136</td>\n",
       "    </tr>\n",
       "    <tr>\n",
       "      <th>3451</th>\n",
       "      <td>4</td>\n",
       "      <td>1185.60</td>\n",
       "      <td>5</td>\n",
       "      <td>160</td>\n",
       "      <td>2.0</td>\n",
       "      <td>1</td>\n",
       "      <td>1987</td>\n",
       "      <td>34.432543</td>\n",
       "      <td>7.078004</td>\n",
       "      <td>12.649111</td>\n",
       "    </tr>\n",
       "    <tr>\n",
       "      <th>3492</th>\n",
       "      <td>0</td>\n",
       "      <td>1300.00</td>\n",
       "      <td>3</td>\n",
       "      <td>10</td>\n",
       "      <td>1.6</td>\n",
       "      <td>0</td>\n",
       "      <td>1984</td>\n",
       "      <td>36.055513</td>\n",
       "      <td>7.170120</td>\n",
       "      <td>3.162278</td>\n",
       "    </tr>\n",
       "    <tr>\n",
       "      <th>3654</th>\n",
       "      <td>3</td>\n",
       "      <td>1100.00</td>\n",
       "      <td>2</td>\n",
       "      <td>140</td>\n",
       "      <td>2.0</td>\n",
       "      <td>2</td>\n",
       "      <td>1985</td>\n",
       "      <td>33.166248</td>\n",
       "      <td>7.003065</td>\n",
       "      <td>11.832160</td>\n",
       "    </tr>\n",
       "    <tr>\n",
       "      <th>3919</th>\n",
       "      <td>0</td>\n",
       "      <td>1296.75</td>\n",
       "      <td>0</td>\n",
       "      <td>1</td>\n",
       "      <td>1.6</td>\n",
       "      <td>1</td>\n",
       "      <td>1980</td>\n",
       "      <td>36.010415</td>\n",
       "      <td>7.167616</td>\n",
       "      <td>1.000000</td>\n",
       "    </tr>\n",
       "  </tbody>\n",
       "</table>\n",
       "</div>"
      ],
      "text/plain": [
       "      Brand    Price  Body  Mileage  EngineV  EngineType  Year  PriceSQRT  \\\n",
       "128       5   600.00     0      112      1.6           1  1980  24.494897   \n",
       "267       3   600.00     0       10      1.5           1  1979  24.494897   \n",
       "462       0  1200.00     3      300      1.4           2  2000  34.641016   \n",
       "731       5  1350.00     4      400      1.9           0  1994  36.742346   \n",
       "877       0  1199.00     5      250      1.9           0  1994  34.626579   \n",
       "1307      1  1350.00     0      360      2.5           0  1989  36.742346   \n",
       "1475      4   999.00     0      430      2.0           2  1988  31.606961   \n",
       "1494      4  1350.00     0      100      1.7           1  1986  36.742346   \n",
       "1519      4  1150.00     5      250      1.4           1  1987  33.911650   \n",
       "1563      4  1200.00     0      240      1.7           2  1988  34.641016   \n",
       "1728      4  1300.00     2      265      1.9           0  1999  36.055513   \n",
       "1874      6  1180.00     0      280      1.8           0  1986  34.351128   \n",
       "2114      1  1350.00     4      240      2.5           0  1992  36.742346   \n",
       "2369      1  1200.00     0      240      2.4           1  1999  34.641016   \n",
       "3338      4   800.00     2      200      1.9           0  1997  28.284271   \n",
       "3451      4  1185.60     5      160      2.0           1  1987  34.432543   \n",
       "3492      0  1300.00     3       10      1.6           0  1984  36.055513   \n",
       "3654      3  1100.00     2      140      2.0           2  1985  33.166248   \n",
       "3919      0  1296.75     0        1      1.6           1  1980  36.010415   \n",
       "\n",
       "      PriceLOG  MileageSQRT  \n",
       "128   6.396930    10.583005  \n",
       "267   6.396930     3.162278  \n",
       "462   7.090077    17.320508  \n",
       "731   7.207860    20.000000  \n",
       "877   7.089243    15.811388  \n",
       "1307  7.207860    18.973666  \n",
       "1475  6.906755    20.736441  \n",
       "1494  7.207860    10.000000  \n",
       "1519  7.047517    15.811388  \n",
       "1563  7.090077    15.491933  \n",
       "1728  7.170120    16.278821  \n",
       "1874  7.073270    16.733201  \n",
       "2114  7.207860    15.491933  \n",
       "2369  7.090077    15.491933  \n",
       "3338  6.684612    14.142136  \n",
       "3451  7.078004    12.649111  \n",
       "3492  7.170120     3.162278  \n",
       "3654  7.003065    11.832160  \n",
       "3919  7.167616     1.000000  "
      ]
     },
     "execution_count": 162,
     "metadata": {},
     "output_type": "execute_result"
    }
   ],
   "source": [
    "cars2[cars2['PriceLOG']> upper_limit]\n",
    "cars2[cars2['PriceLOG'] < lower_limit]"
   ]
  },
  {
   "cell_type": "code",
   "execution_count": 163,
   "id": "70ca6e34",
   "metadata": {
    "scrolled": true
   },
   "outputs": [
    {
     "data": {
      "text/plain": [
       "(3835, 10)"
      ]
     },
     "execution_count": 163,
     "metadata": {},
     "output_type": "execute_result"
    }
   ],
   "source": [
    "cars3 = cars2[cars2['PriceLOG'] < upper_limit]\n",
    "cars3.shape"
   ]
  },
  {
   "cell_type": "code",
   "execution_count": 164,
   "id": "b4c772fb",
   "metadata": {
    "scrolled": false
   },
   "outputs": [],
   "source": [
    "# capping\n",
    "cars3_cap = cars2.copy()\n",
    "cars3_cap['PriceLOG'] = np.where(\n",
    "    cars3_cap['PriceLOG'] > upper_limit,\n",
    "    upper_limit,\n",
    "    np.where(\n",
    "        cars3_cap['PriceLOG'] < lower_limit,\n",
    "        lower_limit,\n",
    "        cars3_cap['PriceLOG']\n",
    "    )\n",
    ")"
   ]
  },
  {
   "cell_type": "code",
   "execution_count": 165,
   "id": "4ef023af",
   "metadata": {},
   "outputs": [
    {
     "name": "stderr",
     "output_type": "stream",
     "text": [
      "C:\\Users\\melan\\anaconda3\\lib\\site-packages\\seaborn\\_decorators.py:36: FutureWarning: Pass the following variable as a keyword arg: x. From version 0.12, the only valid positional argument will be `data`, and passing other arguments without an explicit keyword will result in an error or misinterpretation.\n",
      "  warnings.warn(\n",
      "C:\\Users\\melan\\anaconda3\\lib\\site-packages\\seaborn\\_decorators.py:36: FutureWarning: Pass the following variable as a keyword arg: x. From version 0.12, the only valid positional argument will be `data`, and passing other arguments without an explicit keyword will result in an error or misinterpretation.\n",
      "  warnings.warn(\n"
     ]
    },
    {
     "data": {
      "image/png": "[encoded data removed]",
      "text/plain": [
       "<Figure size 1152x576 with 4 Axes>"
      ]
     },
     "metadata": {},
     "output_type": "display_data"
    }
   ],
   "source": [
    "plt.figure(figsize=(16,8))\n",
    "plt.subplot(2,2,1)\n",
    "sns.histplot(cars2['PriceLOG'])\n",
    "plt.subplot(2,2,2)\n",
    "sns.boxplot(cars2['PriceLOG'])\n",
    "plt.subplot(2,2,3)\n",
    "sns.histplot(cars3_cap['PriceLOG'])\n",
    "plt.subplot(2,2,4)\n",
    "sns.boxplot(cars3_cap['PriceLOG'])\n",
    "plt.show()"
   ]
  },
  {
   "cell_type": "markdown",
   "id": "d3440571",
   "metadata": {},
   "source": [
    "Whew! Lot of work, but that looks a lot better. Let's do the other variable."
   ]
  },
  {
   "cell_type": "code",
   "execution_count": 138,
   "id": "d55dd6a9",
   "metadata": {
    "scrolled": false
   },
   "outputs": [
    {
     "data": {
      "text/plain": [
       "<AxesSubplot:>"
      ]
     },
     "execution_count": 138,
     "metadata": {},
     "output_type": "execute_result"
    },
    {
     "data": {
      "image/png": "[encoded data removed]",
      "text/plain": [
       "<Figure size 432x288 with 1 Axes>"
      ]
     },
     "metadata": {},
     "output_type": "display_data"
    }
   ],
   "source": [
    "# independent variable\n",
    "cars2.boxplot('MileageSQRT')"
   ]
  },
  {
   "cell_type": "code",
   "execution_count": 139,
   "id": "55697619",
   "metadata": {
    "scrolled": false
   },
   "outputs": [
    {
     "name": "stdout",
     "output_type": "stream",
     "text": [
      "9.912089795225299\n",
      "15.231546211727817\n"
     ]
    }
   ],
   "source": [
    "# Finding the 1st and 3rd quartiles\n",
    "percentile25 = cars2['MileageSQRT'].quantile(0.25)\n",
    "percentile75 = cars2['MileageSQRT'].quantile(0.75)\n",
    "print(percentile25)\n",
    "print(percentile75)"
   ]
  },
  {
   "cell_type": "code",
   "execution_count": 140,
   "id": "f82f2365",
   "metadata": {
    "scrolled": true
   },
   "outputs": [
    {
     "name": "stdout",
     "output_type": "stream",
     "text": [
      "5.319456416502518\n"
     ]
    }
   ],
   "source": [
    "# getting the iqr\n",
    "iqr = percentile75 - percentile25\n",
    "print(iqr)"
   ]
  },
  {
   "cell_type": "code",
   "execution_count": 141,
   "id": "4bcf85f9",
   "metadata": {},
   "outputs": [
    {
     "name": "stdout",
     "output_type": "stream",
     "text": [
      "23.210730836481595\n",
      "1.9329051704715212\n"
     ]
    }
   ],
   "source": [
    "# finding the upper and lower limits\n",
    "upper_limit = percentile75 + 1.5 * iqr\n",
    "lower_limit = percentile25 - 1.5 * iqr\n",
    "print(upper_limit)\n",
    "print(lower_limit)"
   ]
  },
  {
   "cell_type": "code",
   "execution_count": 142,
   "id": "4dc6fde4",
   "metadata": {
    "scrolled": true
   },
   "outputs": [
    {
     "data": {
      "text/html": [
       "<div>\n",
       "<style scoped>\n",
       "    .dataframe tbody tr th:only-of-type {\n",
       "        vertical-align: middle;\n",
       "    }\n",
       "\n",
       "    .dataframe tbody tr th {\n",
       "        vertical-align: top;\n",
       "    }\n",
       "\n",
       "    .dataframe thead th {\n",
       "        text-align: right;\n",
       "    }\n",
       "</style>\n",
       "<table border=\"1\" class=\"dataframe\">\n",
       "  <thead>\n",
       "    <tr style=\"text-align: right;\">\n",
       "      <th></th>\n",
       "      <th>Brand</th>\n",
       "      <th>Price</th>\n",
       "      <th>Body</th>\n",
       "      <th>Mileage</th>\n",
       "      <th>EngineV</th>\n",
       "      <th>EngineType</th>\n",
       "      <th>Year</th>\n",
       "      <th>PriceSQRT</th>\n",
       "      <th>PriceLOG</th>\n",
       "      <th>MileageSQRT</th>\n",
       "    </tr>\n",
       "  </thead>\n",
       "  <tbody>\n",
       "    <tr>\n",
       "      <th>28</th>\n",
       "      <td>5</td>\n",
       "      <td>2900.00</td>\n",
       "      <td>0</td>\n",
       "      <td>1</td>\n",
       "      <td>2.3</td>\n",
       "      <td>2</td>\n",
       "      <td>1989</td>\n",
       "      <td>53.851648</td>\n",
       "      <td>7.972466</td>\n",
       "      <td>1.0</td>\n",
       "    </tr>\n",
       "    <tr>\n",
       "      <th>35</th>\n",
       "      <td>2</td>\n",
       "      <td>67500.00</td>\n",
       "      <td>1</td>\n",
       "      <td>1</td>\n",
       "      <td>2.5</td>\n",
       "      <td>0</td>\n",
       "      <td>2016</td>\n",
       "      <td>NaN</td>\n",
       "      <td>11.119883</td>\n",
       "      <td>1.0</td>\n",
       "    </tr>\n",
       "    <tr>\n",
       "      <th>92</th>\n",
       "      <td>0</td>\n",
       "      <td>31500.00</td>\n",
       "      <td>1</td>\n",
       "      <td>1</td>\n",
       "      <td>2.0</td>\n",
       "      <td>1</td>\n",
       "      <td>2014</td>\n",
       "      <td>177.482393</td>\n",
       "      <td>10.357743</td>\n",
       "      <td>1.0</td>\n",
       "    </tr>\n",
       "    <tr>\n",
       "      <th>160</th>\n",
       "      <td>1</td>\n",
       "      <td>169000.00</td>\n",
       "      <td>3</td>\n",
       "      <td>1</td>\n",
       "      <td>4.7</td>\n",
       "      <td>1</td>\n",
       "      <td>2015</td>\n",
       "      <td>NaN</td>\n",
       "      <td>12.037654</td>\n",
       "      <td>1.0</td>\n",
       "    </tr>\n",
       "    <tr>\n",
       "      <th>180</th>\n",
       "      <td>0</td>\n",
       "      <td>14500.00</td>\n",
       "      <td>0</td>\n",
       "      <td>1</td>\n",
       "      <td>1.6</td>\n",
       "      <td>3</td>\n",
       "      <td>2016</td>\n",
       "      <td>120.415946</td>\n",
       "      <td>9.581904</td>\n",
       "      <td>1.0</td>\n",
       "    </tr>\n",
       "    <tr>\n",
       "      <th>...</th>\n",
       "      <td>...</td>\n",
       "      <td>...</td>\n",
       "      <td>...</td>\n",
       "      <td>...</td>\n",
       "      <td>...</td>\n",
       "      <td>...</td>\n",
       "      <td>...</td>\n",
       "      <td>...</td>\n",
       "      <td>...</td>\n",
       "      <td>...</td>\n",
       "    </tr>\n",
       "    <tr>\n",
       "      <th>3881</th>\n",
       "      <td>2</td>\n",
       "      <td>62900.00</td>\n",
       "      <td>1</td>\n",
       "      <td>1</td>\n",
       "      <td>2.0</td>\n",
       "      <td>0</td>\n",
       "      <td>2016</td>\n",
       "      <td>NaN</td>\n",
       "      <td>11.049301</td>\n",
       "      <td>1.0</td>\n",
       "    </tr>\n",
       "    <tr>\n",
       "      <th>3919</th>\n",
       "      <td>0</td>\n",
       "      <td>1296.75</td>\n",
       "      <td>0</td>\n",
       "      <td>1</td>\n",
       "      <td>1.6</td>\n",
       "      <td>1</td>\n",
       "      <td>1980</td>\n",
       "      <td>36.010415</td>\n",
       "      <td>7.167616</td>\n",
       "      <td>1.0</td>\n",
       "    </tr>\n",
       "    <tr>\n",
       "      <th>3939</th>\n",
       "      <td>2</td>\n",
       "      <td>3100.00</td>\n",
       "      <td>4</td>\n",
       "      <td>1</td>\n",
       "      <td>2.0</td>\n",
       "      <td>0</td>\n",
       "      <td>2002</td>\n",
       "      <td>55.677644</td>\n",
       "      <td>8.039157</td>\n",
       "      <td>1.0</td>\n",
       "    </tr>\n",
       "    <tr>\n",
       "      <th>3954</th>\n",
       "      <td>4</td>\n",
       "      <td>4500.00</td>\n",
       "      <td>3</td>\n",
       "      <td>1</td>\n",
       "      <td>1.5</td>\n",
       "      <td>0</td>\n",
       "      <td>2007</td>\n",
       "      <td>67.082039</td>\n",
       "      <td>8.411833</td>\n",
       "      <td>1.0</td>\n",
       "    </tr>\n",
       "    <tr>\n",
       "      <th>4022</th>\n",
       "      <td>2</td>\n",
       "      <td>6500.00</td>\n",
       "      <td>0</td>\n",
       "      <td>1</td>\n",
       "      <td>3.5</td>\n",
       "      <td>1</td>\n",
       "      <td>1999</td>\n",
       "      <td>80.622577</td>\n",
       "      <td>8.779557</td>\n",
       "      <td>1.0</td>\n",
       "    </tr>\n",
       "  </tbody>\n",
       "</table>\n",
       "<p>138 rows × 10 columns</p>\n",
       "</div>"
      ],
      "text/plain": [
       "      Brand      Price  Body  Mileage  EngineV  EngineType  Year   PriceSQRT  \\\n",
       "28        5    2900.00     0        1      2.3           2  1989   53.851648   \n",
       "35        2   67500.00     1        1      2.5           0  2016         NaN   \n",
       "92        0   31500.00     1        1      2.0           1  2014  177.482393   \n",
       "160       1  169000.00     3        1      4.7           1  2015         NaN   \n",
       "180       0   14500.00     0        1      1.6           3  2016  120.415946   \n",
       "...     ...        ...   ...      ...      ...         ...   ...         ...   \n",
       "3881      2   62900.00     1        1      2.0           0  2016         NaN   \n",
       "3919      0    1296.75     0        1      1.6           1  1980   36.010415   \n",
       "3939      2    3100.00     4        1      2.0           0  2002   55.677644   \n",
       "3954      4    4500.00     3        1      1.5           0  2007   67.082039   \n",
       "4022      2    6500.00     0        1      3.5           1  1999   80.622577   \n",
       "\n",
       "       PriceLOG  MileageSQRT  \n",
       "28     7.972466          1.0  \n",
       "35    11.119883          1.0  \n",
       "92    10.357743          1.0  \n",
       "160   12.037654          1.0  \n",
       "180    9.581904          1.0  \n",
       "...         ...          ...  \n",
       "3881  11.049301          1.0  \n",
       "3919   7.167616          1.0  \n",
       "3939   8.039157          1.0  \n",
       "3954   8.411833          1.0  \n",
       "4022   8.779557          1.0  \n",
       "\n",
       "[138 rows x 10 columns]"
      ]
     },
     "execution_count": 142,
     "metadata": {},
     "output_type": "execute_result"
    }
   ],
   "source": [
    "cars2[cars2['MileageSQRT'] > upper_limit]\n",
    "cars2[cars2['MileageSQRT'] < lower_limit]"
   ]
  },
  {
   "cell_type": "code",
   "execution_count": 143,
   "id": "c2918da6",
   "metadata": {},
   "outputs": [
    {
     "data": {
      "text/plain": [
       "(3868, 10)"
      ]
     },
     "execution_count": 143,
     "metadata": {},
     "output_type": "execute_result"
    }
   ],
   "source": [
    "cars4 = cars2[cars2['MileageSQRT'] < upper_limit]\n",
    "cars4.shape"
   ]
  },
  {
   "cell_type": "code",
   "execution_count": 144,
   "id": "3830d1b6",
   "metadata": {},
   "outputs": [],
   "source": [
    "# capping\n",
    "cars4_cap = cars2.copy()\n",
    "cars4_cap['MileageSQRT'] = np.where(\n",
    "    cars4_cap['MileageSQRT'] > upper_limit,\n",
    "    upper_limit,\n",
    "    np.where(\n",
    "        cars4_cap['MileageSQRT'] < lower_limit,\n",
    "        lower_limit,\n",
    "        cars4_cap['MileageSQRT']\n",
    "    )\n",
    ")"
   ]
  },
  {
   "cell_type": "code",
   "execution_count": 146,
   "id": "fee31a6d",
   "metadata": {
    "scrolled": false
   },
   "outputs": [
    {
     "name": "stderr",
     "output_type": "stream",
     "text": [
      "C:\\Users\\melan\\anaconda3\\lib\\site-packages\\seaborn\\_decorators.py:36: FutureWarning: Pass the following variable as a keyword arg: x. From version 0.12, the only valid positional argument will be `data`, and passing other arguments without an explicit keyword will result in an error or misinterpretation.\n",
      "  warnings.warn(\n",
      "C:\\Users\\melan\\anaconda3\\lib\\site-packages\\seaborn\\_decorators.py:36: FutureWarning: Pass the following variable as a keyword arg: x. From version 0.12, the only valid positional argument will be `data`, and passing other arguments without an explicit keyword will result in an error or misinterpretation.\n",
      "  warnings.warn(\n"
     ]
    },
    {
     "data": {
      "image/png": "[encoded data removed]",
      "text/plain": [
       "<Figure size 1152x576 with 4 Axes>"
      ]
     },
     "metadata": {},
     "output_type": "display_data"
    }
   ],
   "source": [
    "plt.figure(figsize=(16,8))\n",
    "plt.subplot(2,2,1)\n",
    "sns.histplot(cars2['MileageSQRT'])\n",
    "plt.subplot(2,2,2)\n",
    "sns.boxplot(cars2['MileageSQRT'])\n",
    "plt.subplot(2,2,3)\n",
    "sns.histplot(cars4_cap['MileageSQRT'])\n",
    "plt.subplot(2,2,4)\n",
    "sns.boxplot(cars4_cap['MileageSQRT'])\n",
    "plt.show()"
   ]
  },
  {
   "cell_type": "markdown",
   "id": "fb62641c",
   "metadata": {},
   "source": [
    "Way better. How about we get to our assumptions and testing?"
   ]
  },
  {
   "cell_type": "markdown",
   "id": "30c2a8bd",
   "metadata": {},
   "source": [
    "## Testing for Homoscedasticity\n",
    "### Creating the Basic Model\n",
    "We can plug in our y (the PriceSQRT Variable) and our x (our other variables, minus Mileage but including MileageSQRT)"
   ]
  },
  {
   "cell_type": "code",
   "execution_count": 157,
   "id": "b45f1b29",
   "metadata": {},
   "outputs": [
    {
     "data": {
      "text/html": [
       "<div>\n",
       "<style scoped>\n",
       "    .dataframe tbody tr th:only-of-type {\n",
       "        vertical-align: middle;\n",
       "    }\n",
       "\n",
       "    .dataframe tbody tr th {\n",
       "        vertical-align: top;\n",
       "    }\n",
       "\n",
       "    .dataframe thead th {\n",
       "        text-align: right;\n",
       "    }\n",
       "</style>\n",
       "<table border=\"1\" class=\"dataframe\">\n",
       "  <thead>\n",
       "    <tr style=\"text-align: right;\">\n",
       "      <th></th>\n",
       "      <th>Brand</th>\n",
       "      <th>Price</th>\n",
       "      <th>Body</th>\n",
       "      <th>Mileage</th>\n",
       "      <th>EngineV</th>\n",
       "      <th>EngineType</th>\n",
       "      <th>Year</th>\n",
       "      <th>PriceSQRT</th>\n",
       "      <th>PriceLOG</th>\n",
       "      <th>MileageSQRT</th>\n",
       "    </tr>\n",
       "  </thead>\n",
       "  <tbody>\n",
       "    <tr>\n",
       "      <th>0</th>\n",
       "      <td>2</td>\n",
       "      <td>4200.0</td>\n",
       "      <td>0</td>\n",
       "      <td>277</td>\n",
       "      <td>2.0</td>\n",
       "      <td>1</td>\n",
       "      <td>1991</td>\n",
       "      <td>64.807407</td>\n",
       "      <td>8.342840</td>\n",
       "      <td>16.643317</td>\n",
       "    </tr>\n",
       "    <tr>\n",
       "      <th>1</th>\n",
       "      <td>1</td>\n",
       "      <td>7900.0</td>\n",
       "      <td>2</td>\n",
       "      <td>427</td>\n",
       "      <td>2.9</td>\n",
       "      <td>0</td>\n",
       "      <td>1999</td>\n",
       "      <td>88.881944</td>\n",
       "      <td>8.974618</td>\n",
       "      <td>20.663978</td>\n",
       "    </tr>\n",
       "    <tr>\n",
       "      <th>2</th>\n",
       "      <td>1</td>\n",
       "      <td>13300.0</td>\n",
       "      <td>0</td>\n",
       "      <td>358</td>\n",
       "      <td>5.0</td>\n",
       "      <td>2</td>\n",
       "      <td>2003</td>\n",
       "      <td>115.325626</td>\n",
       "      <td>9.495519</td>\n",
       "      <td>18.920888</td>\n",
       "    </tr>\n",
       "    <tr>\n",
       "      <th>3</th>\n",
       "      <td>5</td>\n",
       "      <td>23000.0</td>\n",
       "      <td>1</td>\n",
       "      <td>240</td>\n",
       "      <td>4.2</td>\n",
       "      <td>1</td>\n",
       "      <td>2007</td>\n",
       "      <td>151.657509</td>\n",
       "      <td>10.043249</td>\n",
       "      <td>15.491933</td>\n",
       "    </tr>\n",
       "    <tr>\n",
       "      <th>4</th>\n",
       "      <td>3</td>\n",
       "      <td>18300.0</td>\n",
       "      <td>1</td>\n",
       "      <td>120</td>\n",
       "      <td>2.0</td>\n",
       "      <td>1</td>\n",
       "      <td>2011</td>\n",
       "      <td>135.277493</td>\n",
       "      <td>9.814656</td>\n",
       "      <td>10.954451</td>\n",
       "    </tr>\n",
       "  </tbody>\n",
       "</table>\n",
       "</div>"
      ],
      "text/plain": [
       "   Brand    Price  Body  Mileage  EngineV  EngineType  Year   PriceSQRT  \\\n",
       "0      2   4200.0     0      277      2.0           1  1991   64.807407   \n",
       "1      1   7900.0     2      427      2.9           0  1999   88.881944   \n",
       "2      1  13300.0     0      358      5.0           2  2003  115.325626   \n",
       "3      5  23000.0     1      240      4.2           1  2007  151.657509   \n",
       "4      3  18300.0     1      120      2.0           1  2011  135.277493   \n",
       "\n",
       "    PriceLOG  MileageSQRT  \n",
       "0   8.342840    16.643317  \n",
       "1   8.974618    20.663978  \n",
       "2   9.495519    18.920888  \n",
       "3  10.043249    15.491933  \n",
       "4   9.814656    10.954451  "
      ]
     },
     "execution_count": 157,
     "metadata": {},
     "output_type": "execute_result"
    }
   ],
   "source": [
    "#checking our data\n",
    "cars4_cap.head()"
   ]
  },
  {
   "cell_type": "code",
   "execution_count": 170,
   "id": "06c3f938",
   "metadata": {},
   "outputs": [],
   "source": [
    "x = cars4_cap[['Brand', 'Body', 'MileageSQRT', 'EngineV', 'EngineType', 'Year']]\n",
    "y = cars4_cap['PriceLOG']"
   ]
  },
  {
   "cell_type": "code",
   "execution_count": 171,
   "id": "ae5ff91a",
   "metadata": {},
   "outputs": [],
   "source": [
    "carsmodel = sm.OLS(y,x).fit()"
   ]
  },
  {
   "cell_type": "code",
   "execution_count": 172,
   "id": "fb132646",
   "metadata": {},
   "outputs": [],
   "source": [
    "pred_val = carsmodel.fittedvalues.copy()\n",
    "true_val = cars4_cap['PriceLOG'].values.copy()\n",
    "residual = true_val - pred_val"
   ]
  },
  {
   "cell_type": "code",
   "execution_count": 173,
   "id": "a629f6a3",
   "metadata": {},
   "outputs": [
    {
     "data": {
      "image/png": "[encoded data removed]",
      "text/plain": [
       "<Figure size 432x180 with 1 Axes>"
      ]
     },
     "metadata": {},
     "output_type": "display_data"
    }
   ],
   "source": [
    "fig, ax = plt.subplots(figsize=(6, 2.5))\n",
    "_ = ax.scatter(residual, pred_val)"
   ]
  },
  {
   "cell_type": "code",
   "execution_count": 176,
   "id": "cd5c1cd9",
   "metadata": {},
   "outputs": [
    {
     "data": {
      "text/plain": [
       "(549.9281244436103, nan, 640.6325999529192, 6.101743246343659e-131)"
      ]
     },
     "execution_count": 176,
     "metadata": {},
     "output_type": "execute_result"
    }
   ],
   "source": [
    "# run a Breusch Pagan test\n",
    "sms.diagnostic.het_breuschpagan(residual, cars4_cap[['MileageSQRT']])"
   ]
  },
  {
   "cell_type": "markdown",
   "id": "ff935e5b",
   "metadata": {},
   "source": [
    "The numbers in the output above mean the following, with left to right discussed from top to bottom:\n",
    "\n",
    "549.92: This is the lagrange multiplier statistic.\n",
    "Ignore!\n",
    "\n",
    "nan: This is the p value for the lagrange multiplier statistic.\n",
    "Ignore!\n",
    "\n",
    "640.63: This is the F value to test for homoscedasticity. Like all F values, the bigger it is, the more likely it is to be statistically significant.\n",
    "6.101743246343659e-131: This is the p value to test for homoscedasticity. If it is < .05 (stastically significant), then this means you have violated the assumption of homoscedasticity and your data is, in fact, heteroscedastic."
   ]
  },
  {
   "cell_type": "code",
   "execution_count": 187,
   "id": "95ea5ad1",
   "metadata": {
    "scrolled": true
   },
   "outputs": [
    {
     "data": {
      "text/plain": [
       "(array([   4.,   50.,  258.,  425., 1077., 1056.,  646.,  277.,   72.,\n",
       "          13.]),\n",
       " array([3.13098469, 3.34553771, 3.56009073, 3.77464374, 3.98919676,\n",
       "        4.20374978, 4.4183028 , 4.63285582, 4.84740884, 5.06196186,\n",
       "        5.27651488]),\n",
       " <BarContainer object of 10 artists>)"
      ]
     },
     "execution_count": 187,
     "metadata": {},
     "output_type": "execute_result"
    },
    {
     "data": {
      "image/png": "[encoded data removed]",
      "text/plain": [
       "<Figure size 432x288 with 1 Axes>"
      ]
     },
     "metadata": {},
     "output_type": "display_data"
    }
   ],
   "source": [
    "# fixing heteroscedasticity using boxcox\n",
    "transformed, _ = boxcox(cars4_cap['PriceLOG'])\n",
    "plt.hist(transformed)"
   ]
  },
  {
   "cell_type": "code",
   "execution_count": 195,
   "id": "0bcba96b",
   "metadata": {
    "scrolled": true
   },
   "outputs": [],
   "source": [
    "x = transformed\n",
    "model1 = sm.OLS(y,x).fit()"
   ]
  },
  {
   "cell_type": "code",
   "execution_count": 190,
   "id": "a9579b49",
   "metadata": {},
   "outputs": [],
   "source": [
    "pred_val = model1.fittedvalues.copy()\n",
    "true_val = cars4_cap['PriceLOG'].values.copy()\n",
    "residual = true_val - pred_val"
   ]
  },
  {
   "cell_type": "code",
   "execution_count": 191,
   "id": "97da2dd0",
   "metadata": {},
   "outputs": [
    {
     "data": {
      "image/png": "[encoded data removed]",
      "text/plain": [
       "<Figure size 432x180 with 1 Axes>"
      ]
     },
     "metadata": {},
     "output_type": "display_data"
    }
   ],
   "source": [
    "fig, ax = plt.subplots(figsize=(6, 2.5))\n",
    "_ = ax.scatter(residual, pred_val)"
   ]
  },
  {
   "cell_type": "markdown",
   "id": "ba9eac1f",
   "metadata": {},
   "source": [
    "### Testing for Multicollinearity"
   ]
  },
  {
   "cell_type": "code",
   "execution_count": 194,
   "id": "4a2aaafa",
   "metadata": {},
   "outputs": [
    {
     "data": {
      "text/plain": [
       "<AxesSubplot:>"
      ]
     },
     "execution_count": 194,
     "metadata": {},
     "output_type": "execute_result"
    },
    {
     "data": {
      "image/png": "[encoded data removed]",
      "text/plain": [
       "<Figure size 432x288 with 2 Axes>"
      ]
     },
     "metadata": {},
     "output_type": "display_data"
    }
   ],
   "source": [
    "sns.heatmap(cars4_cap.corr(), annot=True)"
   ]
  },
  {
   "cell_type": "markdown",
   "id": "bc472d6f",
   "metadata": {},
   "source": [
    "The correlations between Year and Price (and subsenquently, Year and PriceSQRT and PriceLOG) are pretty high once again!"
   ]
  },
  {
   "cell_type": "markdown",
   "id": "e065f1cf",
   "metadata": {},
   "source": [
    "### Interpreting the Results"
   ]
  },
  {
   "cell_type": "code",
   "execution_count": 192,
   "id": "ff5a61e1",
   "metadata": {},
   "outputs": [
    {
     "data": {
      "text/html": [
       "<table class=\"simpletable\">\n",
       "<caption>OLS Regression Results</caption>\n",
       "<tr>\n",
       "  <th>Dep. Variable:</th>        <td>PriceLOG</td>     <th>  R-squared (uncentered):</th>      <td>   0.999</td> \n",
       "</tr>\n",
       "<tr>\n",
       "  <th>Model:</th>                   <td>OLS</td>       <th>  Adj. R-squared (uncentered):</th> <td>   0.999</td> \n",
       "</tr>\n",
       "<tr>\n",
       "  <th>Method:</th>             <td>Least Squares</td>  <th>  F-statistic:       </th>          <td>7.463e+06</td>\n",
       "</tr>\n",
       "<tr>\n",
       "  <th>Date:</th>             <td>Sun, 11 Sep 2022</td> <th>  Prob (F-statistic):</th>           <td>  0.00</td>  \n",
       "</tr>\n",
       "<tr>\n",
       "  <th>Time:</th>                 <td>02:52:09</td>     <th>  Log-Likelihood:    </th>          <td>  476.22</td> \n",
       "</tr>\n",
       "<tr>\n",
       "  <th>No. Observations:</th>      <td>  3878</td>      <th>  AIC:               </th>          <td>  -950.4</td> \n",
       "</tr>\n",
       "<tr>\n",
       "  <th>Df Residuals:</th>          <td>  3877</td>      <th>  BIC:               </th>          <td>  -944.2</td> \n",
       "</tr>\n",
       "<tr>\n",
       "  <th>Df Model:</th>              <td>     1</td>      <th>                     </th>              <td> </td>    \n",
       "</tr>\n",
       "<tr>\n",
       "  <th>Covariance Type:</th>      <td>nonrobust</td>    <th>                     </th>              <td> </td>    \n",
       "</tr>\n",
       "</table>\n",
       "<table class=\"simpletable\">\n",
       "<tr>\n",
       "   <td></td>     <th>coef</th>     <th>std err</th>      <th>t</th>      <th>P>|t|</th>  <th>[0.025</th>    <th>0.975]</th>  \n",
       "</tr>\n",
       "<tr>\n",
       "  <th>x1</th> <td>    2.2142</td> <td>    0.001</td> <td> 2731.926</td> <td> 0.000</td> <td>    2.213</td> <td>    2.216</td>\n",
       "</tr>\n",
       "</table>\n",
       "<table class=\"simpletable\">\n",
       "<tr>\n",
       "  <th>Omnibus:</th>       <td>252.723</td> <th>  Durbin-Watson:     </th> <td>   1.996</td>\n",
       "</tr>\n",
       "<tr>\n",
       "  <th>Prob(Omnibus):</th> <td> 0.000</td>  <th>  Jarque-Bera (JB):  </th> <td> 319.942</td>\n",
       "</tr>\n",
       "<tr>\n",
       "  <th>Skew:</th>          <td> 0.611</td>  <th>  Prob(JB):          </th> <td>3.35e-70</td>\n",
       "</tr>\n",
       "<tr>\n",
       "  <th>Kurtosis:</th>      <td> 3.696</td>  <th>  Cond. No.          </th> <td>    1.00</td>\n",
       "</tr>\n",
       "</table><br/><br/>Notes:<br/>[1] R² is computed without centering (uncentered) since the model does not contain a constant.<br/>[2] Standard Errors assume that the covariance matrix of the errors is correctly specified."
      ],
      "text/plain": [
       "<class 'statsmodels.iolib.summary.Summary'>\n",
       "\"\"\"\n",
       "                                 OLS Regression Results                                \n",
       "=======================================================================================\n",
       "Dep. Variable:               PriceLOG   R-squared (uncentered):                   0.999\n",
       "Model:                            OLS   Adj. R-squared (uncentered):              0.999\n",
       "Method:                 Least Squares   F-statistic:                          7.463e+06\n",
       "Date:                Sun, 11 Sep 2022   Prob (F-statistic):                        0.00\n",
       "Time:                        02:52:09   Log-Likelihood:                          476.22\n",
       "No. Observations:                3878   AIC:                                     -950.4\n",
       "Df Residuals:                    3877   BIC:                                     -944.2\n",
       "Df Model:                           1                                                  \n",
       "Covariance Type:            nonrobust                                                  \n",
       "==============================================================================\n",
       "                 coef    std err          t      P>|t|      [0.025      0.975]\n",
       "------------------------------------------------------------------------------\n",
       "x1             2.2142      0.001   2731.926      0.000       2.213       2.216\n",
       "==============================================================================\n",
       "Omnibus:                      252.723   Durbin-Watson:                   1.996\n",
       "Prob(Omnibus):                  0.000   Jarque-Bera (JB):              319.942\n",
       "Skew:                           0.611   Prob(JB):                     3.35e-70\n",
       "Kurtosis:                       3.696   Cond. No.                         1.00\n",
       "==============================================================================\n",
       "\n",
       "Notes:\n",
       "[1] R² is computed without centering (uncentered) since the model does not contain a constant.\n",
       "[2] Standard Errors assume that the covariance matrix of the errors is correctly specified.\n",
       "\"\"\""
      ]
     },
     "execution_count": 192,
     "metadata": {},
     "output_type": "execute_result"
    }
   ],
   "source": [
    "model1.summary()"
   ]
  },
  {
   "cell_type": "markdown",
   "id": "073f60cd",
   "metadata": {},
   "source": [
    "Because the p value is < .05, we can determine that the predictor variables has a significant effect on the price of a used car. By looking at the R-squared and Adj. R-squared in the upper right hand corner, you see that this model accounts for 99% of the variance in explaining used car prices."
   ]
  },
  {
   "cell_type": "markdown",
   "id": "9240cd01",
   "metadata": {},
   "source": [
    "## Supervised Machine Learning, Using Linear Regression"
   ]
  },
  {
   "cell_type": "markdown",
   "id": "134a1f25",
   "metadata": {},
   "source": [
    "#### Now that we've done some analyses, our goal is to accurately predict used car prices.\n",
    "First, we have to wrangle our data to make sure it's in arrays."
   ]
  },
  {
   "cell_type": "code",
   "execution_count": 197,
   "id": "fb99a704",
   "metadata": {
    "scrolled": true
   },
   "outputs": [
    {
     "data": {
      "text/html": [
       "<div>\n",
       "<style scoped>\n",
       "    .dataframe tbody tr th:only-of-type {\n",
       "        vertical-align: middle;\n",
       "    }\n",
       "\n",
       "    .dataframe tbody tr th {\n",
       "        vertical-align: top;\n",
       "    }\n",
       "\n",
       "    .dataframe thead th {\n",
       "        text-align: right;\n",
       "    }\n",
       "</style>\n",
       "<table border=\"1\" class=\"dataframe\">\n",
       "  <thead>\n",
       "    <tr style=\"text-align: right;\">\n",
       "      <th></th>\n",
       "      <th>Brand</th>\n",
       "      <th>Price</th>\n",
       "      <th>Body</th>\n",
       "      <th>Mileage</th>\n",
       "      <th>EngineV</th>\n",
       "      <th>EngineType</th>\n",
       "      <th>Year</th>\n",
       "      <th>PriceSQRT</th>\n",
       "      <th>PriceLOG</th>\n",
       "      <th>MileageSQRT</th>\n",
       "    </tr>\n",
       "  </thead>\n",
       "  <tbody>\n",
       "    <tr>\n",
       "      <th>0</th>\n",
       "      <td>2</td>\n",
       "      <td>4200.0</td>\n",
       "      <td>0</td>\n",
       "      <td>277</td>\n",
       "      <td>2.0</td>\n",
       "      <td>1</td>\n",
       "      <td>1991</td>\n",
       "      <td>64.807407</td>\n",
       "      <td>8.342840</td>\n",
       "      <td>16.643317</td>\n",
       "    </tr>\n",
       "    <tr>\n",
       "      <th>1</th>\n",
       "      <td>1</td>\n",
       "      <td>7900.0</td>\n",
       "      <td>2</td>\n",
       "      <td>427</td>\n",
       "      <td>2.9</td>\n",
       "      <td>0</td>\n",
       "      <td>1999</td>\n",
       "      <td>88.881944</td>\n",
       "      <td>8.974618</td>\n",
       "      <td>20.663978</td>\n",
       "    </tr>\n",
       "    <tr>\n",
       "      <th>2</th>\n",
       "      <td>1</td>\n",
       "      <td>13300.0</td>\n",
       "      <td>0</td>\n",
       "      <td>358</td>\n",
       "      <td>5.0</td>\n",
       "      <td>2</td>\n",
       "      <td>2003</td>\n",
       "      <td>115.325626</td>\n",
       "      <td>9.495519</td>\n",
       "      <td>18.920888</td>\n",
       "    </tr>\n",
       "    <tr>\n",
       "      <th>3</th>\n",
       "      <td>5</td>\n",
       "      <td>23000.0</td>\n",
       "      <td>1</td>\n",
       "      <td>240</td>\n",
       "      <td>4.2</td>\n",
       "      <td>1</td>\n",
       "      <td>2007</td>\n",
       "      <td>151.657509</td>\n",
       "      <td>10.043249</td>\n",
       "      <td>15.491933</td>\n",
       "    </tr>\n",
       "    <tr>\n",
       "      <th>4</th>\n",
       "      <td>3</td>\n",
       "      <td>18300.0</td>\n",
       "      <td>1</td>\n",
       "      <td>120</td>\n",
       "      <td>2.0</td>\n",
       "      <td>1</td>\n",
       "      <td>2011</td>\n",
       "      <td>135.277493</td>\n",
       "      <td>9.814656</td>\n",
       "      <td>10.954451</td>\n",
       "    </tr>\n",
       "    <tr>\n",
       "      <th>6</th>\n",
       "      <td>2</td>\n",
       "      <td>6100.0</td>\n",
       "      <td>0</td>\n",
       "      <td>438</td>\n",
       "      <td>2.0</td>\n",
       "      <td>2</td>\n",
       "      <td>1997</td>\n",
       "      <td>78.102497</td>\n",
       "      <td>8.716044</td>\n",
       "      <td>20.928450</td>\n",
       "    </tr>\n",
       "    <tr>\n",
       "      <th>7</th>\n",
       "      <td>5</td>\n",
       "      <td>14200.0</td>\n",
       "      <td>4</td>\n",
       "      <td>200</td>\n",
       "      <td>2.7</td>\n",
       "      <td>0</td>\n",
       "      <td>2006</td>\n",
       "      <td>119.163753</td>\n",
       "      <td>9.560997</td>\n",
       "      <td>14.142136</td>\n",
       "    </tr>\n",
       "    <tr>\n",
       "      <th>8</th>\n",
       "      <td>4</td>\n",
       "      <td>10799.0</td>\n",
       "      <td>4</td>\n",
       "      <td>193</td>\n",
       "      <td>1.5</td>\n",
       "      <td>0</td>\n",
       "      <td>2012</td>\n",
       "      <td>103.918237</td>\n",
       "      <td>9.287209</td>\n",
       "      <td>13.892444</td>\n",
       "    </tr>\n",
       "    <tr>\n",
       "      <th>9</th>\n",
       "      <td>0</td>\n",
       "      <td>1400.0</td>\n",
       "      <td>3</td>\n",
       "      <td>212</td>\n",
       "      <td>1.8</td>\n",
       "      <td>2</td>\n",
       "      <td>1999</td>\n",
       "      <td>37.416574</td>\n",
       "      <td>7.244228</td>\n",
       "      <td>14.560220</td>\n",
       "    </tr>\n",
       "    <tr>\n",
       "      <th>10</th>\n",
       "      <td>4</td>\n",
       "      <td>11950.0</td>\n",
       "      <td>4</td>\n",
       "      <td>177</td>\n",
       "      <td>1.5</td>\n",
       "      <td>0</td>\n",
       "      <td>2011</td>\n",
       "      <td>109.316056</td>\n",
       "      <td>9.388487</td>\n",
       "      <td>13.304135</td>\n",
       "    </tr>\n",
       "  </tbody>\n",
       "</table>\n",
       "</div>"
      ],
      "text/plain": [
       "    Brand    Price  Body  Mileage  EngineV  EngineType  Year   PriceSQRT  \\\n",
       "0       2   4200.0     0      277      2.0           1  1991   64.807407   \n",
       "1       1   7900.0     2      427      2.9           0  1999   88.881944   \n",
       "2       1  13300.0     0      358      5.0           2  2003  115.325626   \n",
       "3       5  23000.0     1      240      4.2           1  2007  151.657509   \n",
       "4       3  18300.0     1      120      2.0           1  2011  135.277493   \n",
       "6       2   6100.0     0      438      2.0           2  1997   78.102497   \n",
       "7       5  14200.0     4      200      2.7           0  2006  119.163753   \n",
       "8       4  10799.0     4      193      1.5           0  2012  103.918237   \n",
       "9       0   1400.0     3      212      1.8           2  1999   37.416574   \n",
       "10      4  11950.0     4      177      1.5           0  2011  109.316056   \n",
       "\n",
       "     PriceLOG  MileageSQRT  \n",
       "0    8.342840    16.643317  \n",
       "1    8.974618    20.663978  \n",
       "2    9.495519    18.920888  \n",
       "3   10.043249    15.491933  \n",
       "4    9.814656    10.954451  \n",
       "6    8.716044    20.928450  \n",
       "7    9.560997    14.142136  \n",
       "8    9.287209    13.892444  \n",
       "9    7.244228    14.560220  \n",
       "10   9.388487    13.304135  "
      ]
     },
     "execution_count": 197,
     "metadata": {},
     "output_type": "execute_result"
    }
   ],
   "source": [
    "cars4_cap.head(10)"
   ]
  },
  {
   "cell_type": "code",
   "execution_count": 198,
   "id": "5c5d5a51",
   "metadata": {},
   "outputs": [
    {
     "name": "stdout",
     "output_type": "stream",
     "text": [
      "<class 'pandas.core.frame.DataFrame'>\n",
      "Int64Index: 3697 entries, 0 to 4024\n",
      "Data columns (total 10 columns):\n",
      " #   Column       Non-Null Count  Dtype  \n",
      "---  ------       --------------  -----  \n",
      " 0   Brand        3697 non-null   int64  \n",
      " 1   Price        3697 non-null   float64\n",
      " 2   Body         3697 non-null   int64  \n",
      " 3   Mileage      3697 non-null   int64  \n",
      " 4   EngineV      3697 non-null   float64\n",
      " 5   EngineType   3697 non-null   int64  \n",
      " 6   Year         3697 non-null   int64  \n",
      " 7   PriceSQRT    3697 non-null   float64\n",
      " 8   PriceLOG     3697 non-null   float64\n",
      " 9   MileageSQRT  3697 non-null   float64\n",
      "dtypes: float64(5), int64(5)\n",
      "memory usage: 317.7 KB\n"
     ]
    }
   ],
   "source": [
    "cars4_cap.dropna(inplace = True)\n",
    "cars4_cap.info()"
   ]
  },
  {
   "cell_type": "code",
   "execution_count": 202,
   "id": "4648ede0",
   "metadata": {},
   "outputs": [
    {
     "ename": "KeyError",
     "evalue": "\"['Price' 'PriceSQRT'] not found in axis\"",
     "output_type": "error",
     "traceback": [
      "\u001b[1;31m---------------------------------------------------------------------------\u001b[0m",
      "\u001b[1;31mKeyError\u001b[0m                                  Traceback (most recent call last)",
      "\u001b[1;32m~\\AppData\\Local\\Temp/ipykernel_20168/1834957345.py\u001b[0m in \u001b[0;36m<module>\u001b[1;34m\u001b[0m\n\u001b[0;32m      3\u001b[0m \u001b[0mcars4_cap\u001b[0m\u001b[1;33m[\u001b[0m\u001b[1;34m'PriceLOG'\u001b[0m\u001b[1;33m]\u001b[0m \u001b[1;33m=\u001b[0m \u001b[0mcars4_cap\u001b[0m\u001b[1;33m[\u001b[0m\u001b[1;34m'PriceLOG'\u001b[0m\u001b[1;33m]\u001b[0m\u001b[1;33m.\u001b[0m\u001b[0mastype\u001b[0m\u001b[1;33m(\u001b[0m\u001b[0mint\u001b[0m\u001b[1;33m)\u001b[0m\u001b[1;33m\u001b[0m\u001b[1;33m\u001b[0m\u001b[0m\n\u001b[0;32m      4\u001b[0m \u001b[0mcars4_cap\u001b[0m\u001b[1;33m[\u001b[0m\u001b[1;34m'MileageSQRT'\u001b[0m\u001b[1;33m]\u001b[0m \u001b[1;33m=\u001b[0m \u001b[0mcars4_cap\u001b[0m\u001b[1;33m[\u001b[0m\u001b[1;34m'MileageSQRT'\u001b[0m\u001b[1;33m]\u001b[0m\u001b[1;33m.\u001b[0m\u001b[0mastype\u001b[0m\u001b[1;33m(\u001b[0m\u001b[0mint\u001b[0m\u001b[1;33m)\u001b[0m\u001b[1;33m\u001b[0m\u001b[1;33m\u001b[0m\u001b[0m\n\u001b[1;32m----> 5\u001b[1;33m \u001b[0mcars4_cap\u001b[0m\u001b[1;33m.\u001b[0m\u001b[0mdrop\u001b[0m\u001b[1;33m(\u001b[0m\u001b[1;33m[\u001b[0m\u001b[1;34m'Price'\u001b[0m\u001b[1;33m,\u001b[0m \u001b[1;34m'PriceSQRT'\u001b[0m\u001b[1;33m,\u001b[0m \u001b[1;34m'Mileage'\u001b[0m\u001b[1;33m]\u001b[0m\u001b[1;33m,\u001b[0m \u001b[0maxis\u001b[0m \u001b[1;33m=\u001b[0m \u001b[1;36m1\u001b[0m\u001b[1;33m,\u001b[0m \u001b[0minplace\u001b[0m \u001b[1;33m=\u001b[0m \u001b[1;32mTrue\u001b[0m\u001b[1;33m)\u001b[0m\u001b[1;33m\u001b[0m\u001b[1;33m\u001b[0m\u001b[0m\n\u001b[0m\u001b[0;32m      6\u001b[0m \u001b[0mcars4_cap\u001b[0m\u001b[1;33m.\u001b[0m\u001b[0mhead\u001b[0m\u001b[1;33m(\u001b[0m\u001b[1;36m10\u001b[0m\u001b[1;33m)\u001b[0m\u001b[1;33m\u001b[0m\u001b[1;33m\u001b[0m\u001b[0m\n",
      "\u001b[1;32m~\\anaconda3\\lib\\site-packages\\pandas\\util\\_decorators.py\u001b[0m in \u001b[0;36mwrapper\u001b[1;34m(*args, **kwargs)\u001b[0m\n\u001b[0;32m    309\u001b[0m                     \u001b[0mstacklevel\u001b[0m\u001b[1;33m=\u001b[0m\u001b[0mstacklevel\u001b[0m\u001b[1;33m,\u001b[0m\u001b[1;33m\u001b[0m\u001b[1;33m\u001b[0m\u001b[0m\n\u001b[0;32m    310\u001b[0m                 )\n\u001b[1;32m--> 311\u001b[1;33m             \u001b[1;32mreturn\u001b[0m \u001b[0mfunc\u001b[0m\u001b[1;33m(\u001b[0m\u001b[1;33m*\u001b[0m\u001b[0margs\u001b[0m\u001b[1;33m,\u001b[0m \u001b[1;33m**\u001b[0m\u001b[0mkwargs\u001b[0m\u001b[1;33m)\u001b[0m\u001b[1;33m\u001b[0m\u001b[1;33m\u001b[0m\u001b[0m\n\u001b[0m\u001b[0;32m    312\u001b[0m \u001b[1;33m\u001b[0m\u001b[0m\n\u001b[0;32m    313\u001b[0m         \u001b[1;32mreturn\u001b[0m \u001b[0mwrapper\u001b[0m\u001b[1;33m\u001b[0m\u001b[1;33m\u001b[0m\u001b[0m\n",
      "\u001b[1;32m~\\anaconda3\\lib\\site-packages\\pandas\\core\\frame.py\u001b[0m in \u001b[0;36mdrop\u001b[1;34m(self, labels, axis, index, columns, level, inplace, errors)\u001b[0m\n\u001b[0;32m   4904\u001b[0m                 \u001b[0mweight\u001b[0m  \u001b[1;36m1.0\u001b[0m     \u001b[1;36m0.8\u001b[0m\u001b[1;33m\u001b[0m\u001b[1;33m\u001b[0m\u001b[0m\n\u001b[0;32m   4905\u001b[0m         \"\"\"\n\u001b[1;32m-> 4906\u001b[1;33m         return super().drop(\n\u001b[0m\u001b[0;32m   4907\u001b[0m             \u001b[0mlabels\u001b[0m\u001b[1;33m=\u001b[0m\u001b[0mlabels\u001b[0m\u001b[1;33m,\u001b[0m\u001b[1;33m\u001b[0m\u001b[1;33m\u001b[0m\u001b[0m\n\u001b[0;32m   4908\u001b[0m             \u001b[0maxis\u001b[0m\u001b[1;33m=\u001b[0m\u001b[0maxis\u001b[0m\u001b[1;33m,\u001b[0m\u001b[1;33m\u001b[0m\u001b[1;33m\u001b[0m\u001b[0m\n",
      "\u001b[1;32m~\\anaconda3\\lib\\site-packages\\pandas\\core\\generic.py\u001b[0m in \u001b[0;36mdrop\u001b[1;34m(self, labels, axis, index, columns, level, inplace, errors)\u001b[0m\n\u001b[0;32m   4148\u001b[0m         \u001b[1;32mfor\u001b[0m \u001b[0maxis\u001b[0m\u001b[1;33m,\u001b[0m \u001b[0mlabels\u001b[0m \u001b[1;32min\u001b[0m \u001b[0maxes\u001b[0m\u001b[1;33m.\u001b[0m\u001b[0mitems\u001b[0m\u001b[1;33m(\u001b[0m\u001b[1;33m)\u001b[0m\u001b[1;33m:\u001b[0m\u001b[1;33m\u001b[0m\u001b[1;33m\u001b[0m\u001b[0m\n\u001b[0;32m   4149\u001b[0m             \u001b[1;32mif\u001b[0m \u001b[0mlabels\u001b[0m \u001b[1;32mis\u001b[0m \u001b[1;32mnot\u001b[0m \u001b[1;32mNone\u001b[0m\u001b[1;33m:\u001b[0m\u001b[1;33m\u001b[0m\u001b[1;33m\u001b[0m\u001b[0m\n\u001b[1;32m-> 4150\u001b[1;33m                 \u001b[0mobj\u001b[0m \u001b[1;33m=\u001b[0m \u001b[0mobj\u001b[0m\u001b[1;33m.\u001b[0m\u001b[0m_drop_axis\u001b[0m\u001b[1;33m(\u001b[0m\u001b[0mlabels\u001b[0m\u001b[1;33m,\u001b[0m \u001b[0maxis\u001b[0m\u001b[1;33m,\u001b[0m \u001b[0mlevel\u001b[0m\u001b[1;33m=\u001b[0m\u001b[0mlevel\u001b[0m\u001b[1;33m,\u001b[0m \u001b[0merrors\u001b[0m\u001b[1;33m=\u001b[0m\u001b[0merrors\u001b[0m\u001b[1;33m)\u001b[0m\u001b[1;33m\u001b[0m\u001b[1;33m\u001b[0m\u001b[0m\n\u001b[0m\u001b[0;32m   4151\u001b[0m \u001b[1;33m\u001b[0m\u001b[0m\n\u001b[0;32m   4152\u001b[0m         \u001b[1;32mif\u001b[0m \u001b[0minplace\u001b[0m\u001b[1;33m:\u001b[0m\u001b[1;33m\u001b[0m\u001b[1;33m\u001b[0m\u001b[0m\n",
      "\u001b[1;32m~\\anaconda3\\lib\\site-packages\\pandas\\core\\generic.py\u001b[0m in \u001b[0;36m_drop_axis\u001b[1;34m(self, labels, axis, level, errors)\u001b[0m\n\u001b[0;32m   4183\u001b[0m                 \u001b[0mnew_axis\u001b[0m \u001b[1;33m=\u001b[0m \u001b[0maxis\u001b[0m\u001b[1;33m.\u001b[0m\u001b[0mdrop\u001b[0m\u001b[1;33m(\u001b[0m\u001b[0mlabels\u001b[0m\u001b[1;33m,\u001b[0m \u001b[0mlevel\u001b[0m\u001b[1;33m=\u001b[0m\u001b[0mlevel\u001b[0m\u001b[1;33m,\u001b[0m \u001b[0merrors\u001b[0m\u001b[1;33m=\u001b[0m\u001b[0merrors\u001b[0m\u001b[1;33m)\u001b[0m\u001b[1;33m\u001b[0m\u001b[1;33m\u001b[0m\u001b[0m\n\u001b[0;32m   4184\u001b[0m             \u001b[1;32melse\u001b[0m\u001b[1;33m:\u001b[0m\u001b[1;33m\u001b[0m\u001b[1;33m\u001b[0m\u001b[0m\n\u001b[1;32m-> 4185\u001b[1;33m                 \u001b[0mnew_axis\u001b[0m \u001b[1;33m=\u001b[0m \u001b[0maxis\u001b[0m\u001b[1;33m.\u001b[0m\u001b[0mdrop\u001b[0m\u001b[1;33m(\u001b[0m\u001b[0mlabels\u001b[0m\u001b[1;33m,\u001b[0m \u001b[0merrors\u001b[0m\u001b[1;33m=\u001b[0m\u001b[0merrors\u001b[0m\u001b[1;33m)\u001b[0m\u001b[1;33m\u001b[0m\u001b[1;33m\u001b[0m\u001b[0m\n\u001b[0m\u001b[0;32m   4186\u001b[0m             \u001b[0mresult\u001b[0m \u001b[1;33m=\u001b[0m \u001b[0mself\u001b[0m\u001b[1;33m.\u001b[0m\u001b[0mreindex\u001b[0m\u001b[1;33m(\u001b[0m\u001b[1;33m**\u001b[0m\u001b[1;33m{\u001b[0m\u001b[0maxis_name\u001b[0m\u001b[1;33m:\u001b[0m \u001b[0mnew_axis\u001b[0m\u001b[1;33m}\u001b[0m\u001b[1;33m)\u001b[0m\u001b[1;33m\u001b[0m\u001b[1;33m\u001b[0m\u001b[0m\n\u001b[0;32m   4187\u001b[0m \u001b[1;33m\u001b[0m\u001b[0m\n",
      "\u001b[1;32m~\\anaconda3\\lib\\site-packages\\pandas\\core\\indexes\\base.py\u001b[0m in \u001b[0;36mdrop\u001b[1;34m(self, labels, errors)\u001b[0m\n\u001b[0;32m   6015\u001b[0m         \u001b[1;32mif\u001b[0m \u001b[0mmask\u001b[0m\u001b[1;33m.\u001b[0m\u001b[0many\u001b[0m\u001b[1;33m(\u001b[0m\u001b[1;33m)\u001b[0m\u001b[1;33m:\u001b[0m\u001b[1;33m\u001b[0m\u001b[1;33m\u001b[0m\u001b[0m\n\u001b[0;32m   6016\u001b[0m             \u001b[1;32mif\u001b[0m \u001b[0merrors\u001b[0m \u001b[1;33m!=\u001b[0m \u001b[1;34m\"ignore\"\u001b[0m\u001b[1;33m:\u001b[0m\u001b[1;33m\u001b[0m\u001b[1;33m\u001b[0m\u001b[0m\n\u001b[1;32m-> 6017\u001b[1;33m                 \u001b[1;32mraise\u001b[0m \u001b[0mKeyError\u001b[0m\u001b[1;33m(\u001b[0m\u001b[1;34mf\"{labels[mask]} not found in axis\"\u001b[0m\u001b[1;33m)\u001b[0m\u001b[1;33m\u001b[0m\u001b[1;33m\u001b[0m\u001b[0m\n\u001b[0m\u001b[0;32m   6018\u001b[0m             \u001b[0mindexer\u001b[0m \u001b[1;33m=\u001b[0m \u001b[0mindexer\u001b[0m\u001b[1;33m[\u001b[0m\u001b[1;33m~\u001b[0m\u001b[0mmask\u001b[0m\u001b[1;33m]\u001b[0m\u001b[1;33m\u001b[0m\u001b[1;33m\u001b[0m\u001b[0m\n\u001b[0;32m   6019\u001b[0m         \u001b[1;32mreturn\u001b[0m \u001b[0mself\u001b[0m\u001b[1;33m.\u001b[0m\u001b[0mdelete\u001b[0m\u001b[1;33m(\u001b[0m\u001b[0mindexer\u001b[0m\u001b[1;33m)\u001b[0m\u001b[1;33m\u001b[0m\u001b[1;33m\u001b[0m\u001b[0m\n",
      "\u001b[1;31mKeyError\u001b[0m: \"['Price' 'PriceSQRT'] not found in axis\""
     ]
    }
   ],
   "source": [
    "# we need to drop Price, PriceSQRT, and change the remaining floats to ints\n",
    "cars4_cap['EngineV'] = cars4_cap['EngineV'].astype(int)\n",
    "cars4_cap['PriceLOG'] = cars4_cap['PriceLOG'].astype(int)\n",
    "cars4_cap['MileageSQRT'] = cars4_cap['MileageSQRT'].astype(int)\n",
    "cars4_cap.drop(['Price', 'PriceSQRT'], axis = 1, inplace = True)\n",
    "cars4_cap.head(10)"
   ]
  },
  {
   "cell_type": "code",
   "execution_count": 203,
   "id": "f76adf22",
   "metadata": {},
   "outputs": [
    {
     "data": {
      "text/html": [
       "<div>\n",
       "<style scoped>\n",
       "    .dataframe tbody tr th:only-of-type {\n",
       "        vertical-align: middle;\n",
       "    }\n",
       "\n",
       "    .dataframe tbody tr th {\n",
       "        vertical-align: top;\n",
       "    }\n",
       "\n",
       "    .dataframe thead th {\n",
       "        text-align: right;\n",
       "    }\n",
       "</style>\n",
       "<table border=\"1\" class=\"dataframe\">\n",
       "  <thead>\n",
       "    <tr style=\"text-align: right;\">\n",
       "      <th></th>\n",
       "      <th>Brand</th>\n",
       "      <th>Body</th>\n",
       "      <th>EngineV</th>\n",
       "      <th>EngineType</th>\n",
       "      <th>Year</th>\n",
       "      <th>PriceLOG</th>\n",
       "      <th>MileageSQRT</th>\n",
       "    </tr>\n",
       "  </thead>\n",
       "  <tbody>\n",
       "    <tr>\n",
       "      <th>0</th>\n",
       "      <td>2</td>\n",
       "      <td>0</td>\n",
       "      <td>2</td>\n",
       "      <td>1</td>\n",
       "      <td>1991</td>\n",
       "      <td>8</td>\n",
       "      <td>16</td>\n",
       "    </tr>\n",
       "    <tr>\n",
       "      <th>1</th>\n",
       "      <td>1</td>\n",
       "      <td>2</td>\n",
       "      <td>2</td>\n",
       "      <td>0</td>\n",
       "      <td>1999</td>\n",
       "      <td>8</td>\n",
       "      <td>20</td>\n",
       "    </tr>\n",
       "    <tr>\n",
       "      <th>2</th>\n",
       "      <td>1</td>\n",
       "      <td>0</td>\n",
       "      <td>5</td>\n",
       "      <td>2</td>\n",
       "      <td>2003</td>\n",
       "      <td>9</td>\n",
       "      <td>18</td>\n",
       "    </tr>\n",
       "    <tr>\n",
       "      <th>3</th>\n",
       "      <td>5</td>\n",
       "      <td>1</td>\n",
       "      <td>4</td>\n",
       "      <td>1</td>\n",
       "      <td>2007</td>\n",
       "      <td>10</td>\n",
       "      <td>15</td>\n",
       "    </tr>\n",
       "    <tr>\n",
       "      <th>4</th>\n",
       "      <td>3</td>\n",
       "      <td>1</td>\n",
       "      <td>2</td>\n",
       "      <td>1</td>\n",
       "      <td>2011</td>\n",
       "      <td>9</td>\n",
       "      <td>10</td>\n",
       "    </tr>\n",
       "    <tr>\n",
       "      <th>6</th>\n",
       "      <td>2</td>\n",
       "      <td>0</td>\n",
       "      <td>2</td>\n",
       "      <td>2</td>\n",
       "      <td>1997</td>\n",
       "      <td>8</td>\n",
       "      <td>20</td>\n",
       "    </tr>\n",
       "    <tr>\n",
       "      <th>7</th>\n",
       "      <td>5</td>\n",
       "      <td>4</td>\n",
       "      <td>2</td>\n",
       "      <td>0</td>\n",
       "      <td>2006</td>\n",
       "      <td>9</td>\n",
       "      <td>14</td>\n",
       "    </tr>\n",
       "    <tr>\n",
       "      <th>8</th>\n",
       "      <td>4</td>\n",
       "      <td>4</td>\n",
       "      <td>1</td>\n",
       "      <td>0</td>\n",
       "      <td>2012</td>\n",
       "      <td>9</td>\n",
       "      <td>13</td>\n",
       "    </tr>\n",
       "    <tr>\n",
       "      <th>9</th>\n",
       "      <td>0</td>\n",
       "      <td>3</td>\n",
       "      <td>1</td>\n",
       "      <td>2</td>\n",
       "      <td>1999</td>\n",
       "      <td>7</td>\n",
       "      <td>14</td>\n",
       "    </tr>\n",
       "    <tr>\n",
       "      <th>10</th>\n",
       "      <td>4</td>\n",
       "      <td>4</td>\n",
       "      <td>1</td>\n",
       "      <td>0</td>\n",
       "      <td>2011</td>\n",
       "      <td>9</td>\n",
       "      <td>13</td>\n",
       "    </tr>\n",
       "  </tbody>\n",
       "</table>\n",
       "</div>"
      ],
      "text/plain": [
       "    Brand  Body  EngineV  EngineType  Year  PriceLOG  MileageSQRT\n",
       "0       2     0        2           1  1991         8           16\n",
       "1       1     2        2           0  1999         8           20\n",
       "2       1     0        5           2  2003         9           18\n",
       "3       5     1        4           1  2007        10           15\n",
       "4       3     1        2           1  2011         9           10\n",
       "6       2     0        2           2  1997         8           20\n",
       "7       5     4        2           0  2006         9           14\n",
       "8       4     4        1           0  2012         9           13\n",
       "9       0     3        1           2  1999         7           14\n",
       "10      4     4        1           0  2011         9           13"
      ]
     },
     "execution_count": 203,
     "metadata": {},
     "output_type": "execute_result"
    }
   ],
   "source": [
    "# forgot to add mileage!\n",
    "cars4_cap.drop(['Mileage'], axis = 1, inplace = True)\n",
    "cars4_cap.head(10)"
   ]
  },
  {
   "cell_type": "code",
   "execution_count": 205,
   "id": "e17cf670",
   "metadata": {},
   "outputs": [],
   "source": [
    "# define our x and y\n",
    "x = cars4_cap[['Brand', 'Body', 'EngineV', 'EngineType', 'Year','MileageSQRT']]\n",
    "y = cars4_cap['PriceLOG']\n"
   ]
  },
  {
   "cell_type": "code",
   "execution_count": 206,
   "id": "98392f7d",
   "metadata": {},
   "outputs": [
    {
     "data": {
      "text/html": [
       "<div>\n",
       "<style scoped>\n",
       "    .dataframe tbody tr th:only-of-type {\n",
       "        vertical-align: middle;\n",
       "    }\n",
       "\n",
       "    .dataframe tbody tr th {\n",
       "        vertical-align: top;\n",
       "    }\n",
       "\n",
       "    .dataframe thead th {\n",
       "        text-align: right;\n",
       "    }\n",
       "</style>\n",
       "<table border=\"1\" class=\"dataframe\">\n",
       "  <thead>\n",
       "    <tr style=\"text-align: right;\">\n",
       "      <th></th>\n",
       "      <th>Brand</th>\n",
       "      <th>Body</th>\n",
       "      <th>EngineV</th>\n",
       "      <th>EngineType</th>\n",
       "      <th>Year</th>\n",
       "      <th>MileageSQRT</th>\n",
       "    </tr>\n",
       "  </thead>\n",
       "  <tbody>\n",
       "    <tr>\n",
       "      <th>0</th>\n",
       "      <td>2</td>\n",
       "      <td>0</td>\n",
       "      <td>2</td>\n",
       "      <td>1</td>\n",
       "      <td>1991</td>\n",
       "      <td>16</td>\n",
       "    </tr>\n",
       "    <tr>\n",
       "      <th>1</th>\n",
       "      <td>1</td>\n",
       "      <td>2</td>\n",
       "      <td>2</td>\n",
       "      <td>0</td>\n",
       "      <td>1999</td>\n",
       "      <td>20</td>\n",
       "    </tr>\n",
       "    <tr>\n",
       "      <th>2</th>\n",
       "      <td>1</td>\n",
       "      <td>0</td>\n",
       "      <td>5</td>\n",
       "      <td>2</td>\n",
       "      <td>2003</td>\n",
       "      <td>18</td>\n",
       "    </tr>\n",
       "    <tr>\n",
       "      <th>3</th>\n",
       "      <td>5</td>\n",
       "      <td>1</td>\n",
       "      <td>4</td>\n",
       "      <td>1</td>\n",
       "      <td>2007</td>\n",
       "      <td>15</td>\n",
       "    </tr>\n",
       "    <tr>\n",
       "      <th>4</th>\n",
       "      <td>3</td>\n",
       "      <td>1</td>\n",
       "      <td>2</td>\n",
       "      <td>1</td>\n",
       "      <td>2011</td>\n",
       "      <td>10</td>\n",
       "    </tr>\n",
       "    <tr>\n",
       "      <th>6</th>\n",
       "      <td>2</td>\n",
       "      <td>0</td>\n",
       "      <td>2</td>\n",
       "      <td>2</td>\n",
       "      <td>1997</td>\n",
       "      <td>20</td>\n",
       "    </tr>\n",
       "    <tr>\n",
       "      <th>7</th>\n",
       "      <td>5</td>\n",
       "      <td>4</td>\n",
       "      <td>2</td>\n",
       "      <td>0</td>\n",
       "      <td>2006</td>\n",
       "      <td>14</td>\n",
       "    </tr>\n",
       "    <tr>\n",
       "      <th>8</th>\n",
       "      <td>4</td>\n",
       "      <td>4</td>\n",
       "      <td>1</td>\n",
       "      <td>0</td>\n",
       "      <td>2012</td>\n",
       "      <td>13</td>\n",
       "    </tr>\n",
       "    <tr>\n",
       "      <th>9</th>\n",
       "      <td>0</td>\n",
       "      <td>3</td>\n",
       "      <td>1</td>\n",
       "      <td>2</td>\n",
       "      <td>1999</td>\n",
       "      <td>14</td>\n",
       "    </tr>\n",
       "    <tr>\n",
       "      <th>10</th>\n",
       "      <td>4</td>\n",
       "      <td>4</td>\n",
       "      <td>1</td>\n",
       "      <td>0</td>\n",
       "      <td>2011</td>\n",
       "      <td>13</td>\n",
       "    </tr>\n",
       "  </tbody>\n",
       "</table>\n",
       "</div>"
      ],
      "text/plain": [
       "    Brand  Body  EngineV  EngineType  Year  MileageSQRT\n",
       "0       2     0        2           1  1991           16\n",
       "1       1     2        2           0  1999           20\n",
       "2       1     0        5           2  2003           18\n",
       "3       5     1        4           1  2007           15\n",
       "4       3     1        2           1  2011           10\n",
       "6       2     0        2           2  1997           20\n",
       "7       5     4        2           0  2006           14\n",
       "8       4     4        1           0  2012           13\n",
       "9       0     3        1           2  1999           14\n",
       "10      4     4        1           0  2011           13"
      ]
     },
     "execution_count": 206,
     "metadata": {},
     "output_type": "execute_result"
    }
   ],
   "source": [
    "x.head(10)"
   ]
  },
  {
   "cell_type": "code",
   "execution_count": 207,
   "id": "5126b9b9",
   "metadata": {},
   "outputs": [
    {
     "data": {
      "text/plain": [
       "0      8\n",
       "1      8\n",
       "2      9\n",
       "3     10\n",
       "4      9\n",
       "6      8\n",
       "7      9\n",
       "8      9\n",
       "9      7\n",
       "10     9\n",
       "Name: PriceLOG, dtype: int32"
      ]
     },
     "execution_count": 207,
     "metadata": {},
     "output_type": "execute_result"
    }
   ],
   "source": [
    "y.head(10)"
   ]
  },
  {
   "cell_type": "markdown",
   "id": "abbe3420",
   "metadata": {},
   "source": [
    "### Train Test Split\n"
   ]
  },
  {
   "cell_type": "code",
   "execution_count": 208,
   "id": "bc7142f4",
   "metadata": {},
   "outputs": [
    {
     "name": "stdout",
     "output_type": "stream",
     "text": [
      "(2218, 6) (2218,)\n",
      "(1479, 6) (1479,)\n"
     ]
    }
   ],
   "source": [
    "# splitting the data\n",
    "x_train, x_test, y_train, y_test = train_test_split(x,y, test_size = .4, random_state=101)\n",
    "print(x_train.shape, y_train.shape)\n",
    "print(x_test.shape, y_test.shape)"
   ]
  },
  {
   "cell_type": "markdown",
   "id": "d582b25b",
   "metadata": {},
   "source": [
    "In the x_train dataset, there are 2218 rows and 6 columns, and in the x_test dataset, there are 1479 rows and 6 columns. So we can see how the training and testing data is broken up."
   ]
  },
  {
   "cell_type": "markdown",
   "id": "4d025e12",
   "metadata": {},
   "source": [
    "### Create the Linear Regression Model"
   ]
  },
  {
   "cell_type": "code",
   "execution_count": 209,
   "id": "3f8aa214",
   "metadata": {},
   "outputs": [
    {
     "data": {
      "text/plain": [
       "LinearRegression()"
      ]
     },
     "execution_count": 209,
     "metadata": {},
     "output_type": "execute_result"
    }
   ],
   "source": [
    "# running linear regression model\n",
    "lm = LinearRegression()\n",
    "lm.fit(x_train, y_train)"
   ]
  },
  {
   "cell_type": "markdown",
   "id": "74dc5ff3",
   "metadata": {},
   "source": [
    "Awesome, it worked!"
   ]
  },
  {
   "cell_type": "markdown",
   "id": "8398d4b8",
   "metadata": {},
   "source": [
    "## Examine Predictions\n",
    "#### Now that we've prepped our data, we'll examine the predictions."
   ]
  },
  {
   "cell_type": "code",
   "execution_count": 210,
   "id": "245ceaf6",
   "metadata": {},
   "outputs": [
    {
     "data": {
      "text/plain": [
       "array([8.5338134 , 7.50566046, 8.45229804, ..., 8.80995547, 9.35420842,\n",
       "       9.1599486 ])"
      ]
     },
     "execution_count": 210,
     "metadata": {},
     "output_type": "execute_result"
    }
   ],
   "source": [
    "# checking the preditions\n",
    "predictions = lm.predict(x_test)\n",
    "predictions"
   ]
  },
  {
   "cell_type": "code",
   "execution_count": 211,
   "id": "c3810f7a",
   "metadata": {},
   "outputs": [
    {
     "data": {
      "text/plain": [
       "<matplotlib.collections.PathCollection at 0x1204703ef10>"
      ]
     },
     "execution_count": 211,
     "metadata": {},
     "output_type": "execute_result"
    },
    {
     "data": {
      "image/png": "[encoded data removed]",
      "text/plain": [
       "<Figure size 432x288 with 1 Axes>"
      ]
     },
     "metadata": {},
     "output_type": "display_data"
    }
   ],
   "source": [
    "# Plotting the huge array\n",
    "plt.scatter(y_test, predictions)"
   ]
  },
  {
   "cell_type": "code",
   "execution_count": 212,
   "id": "481d93df",
   "metadata": {},
   "outputs": [
    {
     "name": "stdout",
     "output_type": "stream",
     "text": [
      "Score: 0.5244922251095536\n"
     ]
    }
   ],
   "source": [
    "# quantifying with accuracy score\n",
    "print(\"Score:\", lm.score(x_test, y_test))"
   ]
  },
  {
   "cell_type": "markdown",
   "id": "0d862b6e",
   "metadata": {},
   "source": [
    "This means our model is accurate approximately 52% of the time. That's a little over half the time."
   ]
  },
  {
   "cell_type": "markdown",
   "id": "127c270d",
   "metadata": {},
   "source": [
    "### Examining Error\n",
    "#### Because our model isn't 100 percent perfect, we should examine some of the error.\n"
   ]
  },
  {
   "cell_type": "markdown",
   "id": "790466a7",
   "metadata": {},
   "source": [
    "### Mean Absolute Error (MAE)"
   ]
  },
  {
   "cell_type": "code",
   "execution_count": 215,
   "id": "0e2d6f0b",
   "metadata": {},
   "outputs": [
    {
     "data": {
      "text/plain": [
       "0.4647755950076568"
      ]
     },
     "execution_count": 215,
     "metadata": {},
     "output_type": "execute_result"
    }
   ],
   "source": [
    "metrics.mean_absolute_error(y_test, predictions)"
   ]
  },
  {
   "cell_type": "markdown",
   "id": "f297c448",
   "metadata": {},
   "source": [
    "Since the lowest you can have is 0, a value of 0.46 is pretty good!"
   ]
  },
  {
   "cell_type": "markdown",
   "id": "d6532df4",
   "metadata": {},
   "source": [
    "### Mean Squared Error (MSE)"
   ]
  },
  {
   "cell_type": "code",
   "execution_count": 217,
   "id": "f79211ab",
   "metadata": {},
   "outputs": [
    {
     "data": {
      "text/plain": [
       "0.3467024501392138"
      ]
     },
     "execution_count": 217,
     "metadata": {},
     "output_type": "execute_result"
    }
   ],
   "source": [
    "metrics.mean_squared_error(y_test, predictions)"
   ]
  },
  {
   "cell_type": "markdown",
   "id": "29e7e390",
   "metadata": {},
   "source": [
    "### Root Mean Squared Error (RMSE)"
   ]
  },
  {
   "cell_type": "code",
   "execution_count": 218,
   "id": "65b2b328",
   "metadata": {},
   "outputs": [
    {
     "data": {
      "text/plain": [
       "0.5888144445741916"
      ]
     },
     "execution_count": 218,
     "metadata": {},
     "output_type": "execute_result"
    }
   ],
   "source": [
    "np.sqrt(metrics.mean_squared_error(y_test, predictions))"
   ]
  },
  {
   "cell_type": "markdown",
   "id": "3b1ba4ec",
   "metadata": {},
   "source": [
    "0.58 is really close to 0."
   ]
  },
  {
   "cell_type": "markdown",
   "id": "c4c4bc61",
   "metadata": {},
   "source": [
    "## Cross Validation\n",
    "#### Just to be safe, why not cross validate?"
   ]
  },
  {
   "cell_type": "markdown",
   "id": "ba80877a",
   "metadata": {},
   "source": [
    "### k-Fold Cross Validation"
   ]
  },
  {
   "cell_type": "code",
   "execution_count": 219,
   "id": "90ca01da",
   "metadata": {},
   "outputs": [],
   "source": [
    "# load K fold packages\n",
    "from sklearn.model_selection import KFold\n",
    "from sklearn.model_selection import cross_val_score"
   ]
  },
  {
   "cell_type": "code",
   "execution_count": 220,
   "id": "b2d013f7",
   "metadata": {},
   "outputs": [
    {
     "name": "stdout",
     "output_type": "stream",
     "text": [
      "train: [   0    1    2 ... 3689 3695 3696], test: [   3    4    6 ... 3692 3693 3694]\n",
      "train: [   2    3    4 ... 3692 3693 3694], test: [   0    1    8 ... 3688 3695 3696]\n",
      "train: [   0    1    3 ... 3694 3695 3696], test: [   2    5    9 ... 3686 3687 3689]\n"
     ]
    },
    {
     "name": "stderr",
     "output_type": "stream",
     "text": [
      "C:\\Users\\melan\\anaconda3\\lib\\site-packages\\sklearn\\utils\\validation.py:70: FutureWarning: Pass shuffle=True, random_state=1 as keyword args. From version 1.0 (renaming of 0.25) passing these as positional arguments will result in an error\n",
      "  warnings.warn(f\"Pass {args_msg} as keyword args. From version \"\n"
     ]
    }
   ],
   "source": [
    "# create the folds\n",
    "kfold = KFold(3, True, 1)\n",
    "for train, test in kfold.split(x,y):\n",
    "    print('train: %s, test: %s' % (train,test))"
   ]
  },
  {
   "cell_type": "code",
   "execution_count": 221,
   "id": "80ba11a0",
   "metadata": {},
   "outputs": [
    {
     "name": "stdout",
     "output_type": "stream",
     "text": [
      "[0.50175517 0.54377193 0.51588539]\n"
     ]
    }
   ],
   "source": [
    "print(cross_val_score(lm, x,y, cv=3))"
   ]
  },
  {
   "cell_type": "markdown",
   "id": "7d0fd423",
   "metadata": {},
   "source": [
    "So all three of our models are pretty much 50% accurate."
   ]
  },
  {
   "cell_type": "code",
   "execution_count": null,
   "id": "25d212e2",
   "metadata": {},
   "outputs": [],
   "source": []
  }
 ],
 "metadata": {
  "kernelspec": {
   "display_name": "Python 3 (ipykernel)",
   "language": "python",
   "name": "python3"
  },
  "language_info": {
   "codemirror_mode": {
    "name": "ipython",
    "version": 3
   },
   "file_extension": ".py",
   "mimetype": "text/x-python",
   "name": "python",
   "nbconvert_exporter": "python",
   "pygments_lexer": "ipython3",
   "version": "3.9.7"
  }
 },
 "nbformat": 4,
 "nbformat_minor": 5
}
